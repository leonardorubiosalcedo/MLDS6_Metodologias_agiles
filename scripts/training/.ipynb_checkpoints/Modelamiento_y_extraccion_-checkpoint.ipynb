{
 "cells": [
  {
   "cell_type": "markdown",
   "metadata": {
    "id": "sk_8Wz_Y-GG0"
   },
   "source": [
    "# Modelamiento y extraccion de caracteristicas"
   ]
  },
  {
   "cell_type": "markdown",
   "metadata": {
    "id": "UztjA_KE-U5S"
   },
   "source": [
    "## extraccion de caracteristicas"
   ]
  },
  {
   "cell_type": "markdown",
   "metadata": {
    "id": "oxqSiZ-p-uEq"
   },
   "source": [
    "### Cargue de librerias"
   ]
  },
  {
   "cell_type": "code",
   "execution_count": 90,
   "metadata": {
    "colab": {
     "base_uri": "https://localhost:8080/"
    },
    "id": "6tF9qDQtJz08",
    "outputId": "0331e333-56fc-40b6-fda2-575698502a87"
   },
   "outputs": [
    {
     "name": "stderr",
     "output_type": "stream",
     "text": [
      "/usr/local/lib/python3.10/dist-packages/ipykernel/ipkernel.py:283: DeprecationWarning: `should_run_async` will not call `transform_cell` automatically in the future. Please pass the result to `transformed_cell` argument and any exception that happen during thetransform in `preprocessing_exc_tuple` in IPython 7.17 and above.\n",
      "  and should_run_async(code)\n"
     ]
    },
    {
     "name": "stdout",
     "output_type": "stream",
     "text": [
      "Looking in indexes: https://pypi.org/simple, https://us-python.pkg.dev/colab-wheels/public/simple/\n",
      "Requirement already satisfied: googletrans in /usr/local/lib/python3.10/dist-packages (3.0.0)\n",
      "Requirement already satisfied: httpx==0.13.3 in /usr/local/lib/python3.10/dist-packages (from googletrans) (0.13.3)\n",
      "Requirement already satisfied: certifi in /usr/local/lib/python3.10/dist-packages (from httpx==0.13.3->googletrans) (2022.12.7)\n",
      "Requirement already satisfied: hstspreload in /usr/local/lib/python3.10/dist-packages (from httpx==0.13.3->googletrans) (2023.1.1)\n",
      "Requirement already satisfied: sniffio in /usr/local/lib/python3.10/dist-packages (from httpx==0.13.3->googletrans) (1.3.0)\n",
      "Requirement already satisfied: chardet==3.* in /usr/local/lib/python3.10/dist-packages (from httpx==0.13.3->googletrans) (3.0.4)\n",
      "Requirement already satisfied: idna==2.* in /usr/local/lib/python3.10/dist-packages (from httpx==0.13.3->googletrans) (2.10)\n",
      "Requirement already satisfied: rfc3986<2,>=1.3 in /usr/local/lib/python3.10/dist-packages (from httpx==0.13.3->googletrans) (1.5.0)\n",
      "Requirement already satisfied: httpcore==0.9.* in /usr/local/lib/python3.10/dist-packages (from httpx==0.13.3->googletrans) (0.9.1)\n",
      "Requirement already satisfied: h11<0.10,>=0.8 in /usr/local/lib/python3.10/dist-packages (from httpcore==0.9.*->httpx==0.13.3->googletrans) (0.9.0)\n",
      "Requirement already satisfied: h2==3.* in /usr/local/lib/python3.10/dist-packages (from httpcore==0.9.*->httpx==0.13.3->googletrans) (3.2.0)\n",
      "Requirement already satisfied: hyperframe<6,>=5.2.0 in /usr/local/lib/python3.10/dist-packages (from h2==3.*->httpcore==0.9.*->httpx==0.13.3->googletrans) (5.2.0)\n",
      "Requirement already satisfied: hpack<4,>=3.0 in /usr/local/lib/python3.10/dist-packages (from h2==3.*->httpcore==0.9.*->httpx==0.13.3->googletrans) (3.0.0)\n",
      "Looking in indexes: https://pypi.org/simple, https://us-python.pkg.dev/colab-wheels/public/simple/\n",
      "Requirement already satisfied: pyLDAvis in /usr/local/lib/python3.10/dist-packages (3.4.1)\n",
      "Requirement already satisfied: numpy>=1.24.2 in /usr/local/lib/python3.10/dist-packages (from pyLDAvis) (1.25.0)\n",
      "Requirement already satisfied: scipy in /usr/local/lib/python3.10/dist-packages (from pyLDAvis) (1.10.1)\n",
      "Requirement already satisfied: pandas>=2.0.0 in /usr/local/lib/python3.10/dist-packages (from pyLDAvis) (2.0.2)\n",
      "Requirement already satisfied: joblib>=1.2.0 in /usr/local/lib/python3.10/dist-packages (from pyLDAvis) (1.2.0)\n",
      "Requirement already satisfied: jinja2 in /usr/local/lib/python3.10/dist-packages (from pyLDAvis) (3.1.2)\n",
      "Requirement already satisfied: numexpr in /usr/local/lib/python3.10/dist-packages (from pyLDAvis) (2.8.4)\n",
      "Requirement already satisfied: funcy in /usr/local/lib/python3.10/dist-packages (from pyLDAvis) (2.0)\n",
      "Requirement already satisfied: scikit-learn>=1.0.0 in /usr/local/lib/python3.10/dist-packages (from pyLDAvis) (1.2.2)\n",
      "Requirement already satisfied: gensim in /usr/local/lib/python3.10/dist-packages (from pyLDAvis) (4.3.1)\n",
      "Requirement already satisfied: setuptools in /usr/local/lib/python3.10/dist-packages (from pyLDAvis) (67.7.2)\n",
      "Requirement already satisfied: python-dateutil>=2.8.2 in /usr/local/lib/python3.10/dist-packages (from pandas>=2.0.0->pyLDAvis) (2.8.2)\n",
      "Requirement already satisfied: pytz>=2020.1 in /usr/local/lib/python3.10/dist-packages (from pandas>=2.0.0->pyLDAvis) (2022.7.1)\n",
      "Requirement already satisfied: tzdata>=2022.1 in /usr/local/lib/python3.10/dist-packages (from pandas>=2.0.0->pyLDAvis) (2023.3)\n",
      "Requirement already satisfied: threadpoolctl>=2.0.0 in /usr/local/lib/python3.10/dist-packages (from scikit-learn>=1.0.0->pyLDAvis) (3.1.0)\n",
      "Requirement already satisfied: smart-open>=1.8.1 in /usr/local/lib/python3.10/dist-packages (from gensim->pyLDAvis) (6.3.0)\n",
      "Requirement already satisfied: MarkupSafe>=2.0 in /usr/local/lib/python3.10/dist-packages (from jinja2->pyLDAvis) (2.1.2)\n",
      "Requirement already satisfied: six>=1.5 in /usr/local/lib/python3.10/dist-packages (from python-dateutil>=2.8.2->pandas>=2.0.0->pyLDAvis) (1.16.0)\n"
     ]
    }
   ],
   "source": [
    "!pip install googletrans\n",
    "!pip install pyLDAvis\n",
    "!pip install translate\n",
    "!pip install fuzzywuzzy"
   ]
  },
  {
   "cell_type": "code",
   "execution_count": 91,
   "metadata": {
    "colab": {
     "base_uri": "https://localhost:8080/"
    },
    "id": "HykKvT_IUDT4",
    "outputId": "d4f0a9f8-02f3-4100-f86f-5991de0726da"
   },
   "outputs": [
    {
     "name": "stderr",
     "output_type": "stream",
     "text": [
      "/usr/local/lib/python3.10/dist-packages/ipykernel/ipkernel.py:283: DeprecationWarning: `should_run_async` will not call `transform_cell` automatically in the future. Please pass the result to `transformed_cell` argument and any exception that happen during thetransform in `preprocessing_exc_tuple` in IPython 7.17 and above.\n",
      "  and should_run_async(code)\n"
     ]
    }
   ],
   "source": [
    "from googletrans import Translator"
   ]
  },
  {
   "cell_type": "code",
   "execution_count": 61,
   "metadata": {
    "colab": {
     "base_uri": "https://localhost:8080/"
    },
    "id": "jbc1hJ4k-syO",
    "outputId": "606934e2-8995-4319-c74a-9a5f9cd5deb8"
   },
   "outputs": [
    {
     "name": "stderr",
     "output_type": "stream",
     "text": [
      "/usr/local/lib/python3.10/dist-packages/ipykernel/ipkernel.py:283: DeprecationWarning: `should_run_async` will not call `transform_cell` automatically in the future. Please pass the result to `transformed_cell` argument and any exception that happen during thetransform in `preprocessing_exc_tuple` in IPython 7.17 and above.\n",
      "  and should_run_async(code)\n"
     ]
    }
   ],
   "source": [
    "import pandas as pd\n",
    "from sklearn.feature_extraction.text import CountVectorizer\n",
    "\n",
    "\n",
    "from gensim.corpora import Dictionary\n",
    "import pyLDAvis.gensim\n",
    "from gensim.models import LdaModel\n",
    "from gensim.corpora import Dictionary\n",
    "from pprint import pprint\n",
    "\n",
    "\n",
    "from sklearn.feature_extraction.text import TfidfVectorizer\n",
    "from sklearn.metrics.pairwise import cosine_similarity\n",
    "from fuzzywuzzy import fuzz\n",
    "from translate import Translator\n"
   ]
  },
  {
   "cell_type": "markdown",
   "metadata": {
    "id": "TnkvBq6T-sdg"
   },
   "source": []
  },
  {
   "cell_type": "markdown",
   "metadata": {
    "id": "jMvpRCmN-Y1o"
   },
   "source": [
    "### Cargue de datos"
   ]
  },
  {
   "cell_type": "code",
   "execution_count": 5,
   "metadata": {
    "id": "xokwqvCd-X38"
   },
   "outputs": [],
   "source": [
    "df = pd.read_csv(\"datos_procesados.csv\")"
   ]
  },
  {
   "cell_type": "markdown",
   "metadata": {
    "id": "BPI-P8Sn_gYw"
   },
   "source": [
    "Creacion de corpus"
   ]
  },
  {
   "cell_type": "code",
   "execution_count": 7,
   "metadata": {
    "id": "siLXZEnf_gBa"
   },
   "outputs": [],
   "source": [
    "corpus= \" \".join(df['limpieza'])"
   ]
  },
  {
   "cell_type": "code",
   "execution_count": 8,
   "metadata": {
    "id": "RVO3FbL39R6w"
   },
   "outputs": [],
   "source": [
    "corpus_origen= \" \".join(df['origenes'])"
   ]
  },
  {
   "cell_type": "markdown",
   "metadata": {
    "id": "5ipbjQNDFl6M"
   },
   "source": [
    "## Analisis de vectores por N- gramas"
   ]
  },
  {
   "cell_type": "code",
   "execution_count": 33,
   "metadata": {
    "id": "nZyEoSjhFlBd"
   },
   "outputs": [],
   "source": [
    "def vectores(corpus):\n",
    "    vectorizer = CountVectorizer(ngram_range=(1, 2))\n",
    "    # Ajustar el vectorizador y transformar los datos de texto en características\n",
    "    X = vectorizer.fit_transform(corpus)\n",
    "    # Obtener el vocabulario de características\n",
    "    vocab = vectorizer.vocabulary_\n",
    "    # Imprimir las características extraídas\n",
    "    print(\"Características extraídas:\")\n",
    "    for i in range(len(corpus)):\n",
    "        print(f\"Documento {i+1}:\")\n",
    "        for feature, index in vocab.items():\n",
    "            if X[i, index] > 0:\n",
    "                print(f\"- {feature}: {X[i, index]} ocurrencia(s)\")"
   ]
  },
  {
   "cell_type": "code",
   "execution_count": 34,
   "metadata": {
    "colab": {
     "base_uri": "https://localhost:8080/",
     "height": 1000
    },
    "id": "lAcskWVJFy_j",
    "outputId": "1ca2f2a5-1381-4f5d-e3c1-c394ad62557d"
   },
   "outputs": [
    {
     "name": "stdout",
     "output_type": "stream",
     "text": [
      "Características extraídas:\n",
      "Documento 1:\n",
      "- adventur: 1 ocurrencia(s)\n",
      "- famili: 1 ocurrencia(s)\n",
      "- fantasi: 1 ocurrencia(s)\n",
      "- young: 1 ocurrencia(s)\n",
      "- mermaid: 1 ocurrencia(s)\n",
      "- make: 1 ocurrencia(s)\n",
      "- deal: 1 ocurrencia(s)\n",
      "- sea: 1 ocurrencia(s)\n",
      "- witch: 1 ocurrencia(s)\n",
      "- trade: 1 ocurrencia(s)\n",
      "- beauti: 1 ocurrencia(s)\n",
      "- voic: 1 ocurrencia(s)\n",
      "- human: 1 ocurrencia(s)\n",
      "- leg: 1 ocurrencia(s)\n",
      "- discov: 1 ocurrencia(s)\n",
      "- world: 1 ocurrencia(s)\n",
      "- water: 1 ocurrencia(s)\n",
      "- impress: 1 ocurrencia(s)\n",
      "- princ: 1 ocurrencia(s)\n",
      "- adventur famili: 1 ocurrencia(s)\n",
      "- famili fantasi: 1 ocurrencia(s)\n",
      "- fantasi young: 1 ocurrencia(s)\n",
      "- young mermaid: 1 ocurrencia(s)\n",
      "- mermaid make: 1 ocurrencia(s)\n",
      "- make deal: 1 ocurrencia(s)\n",
      "- deal sea: 1 ocurrencia(s)\n",
      "- sea witch: 1 ocurrencia(s)\n",
      "- witch trade: 1 ocurrencia(s)\n",
      "- trade beauti: 1 ocurrencia(s)\n",
      "- beauti voic: 1 ocurrencia(s)\n",
      "- voic human: 1 ocurrencia(s)\n",
      "- human leg: 1 ocurrencia(s)\n",
      "- leg discov: 1 ocurrencia(s)\n",
      "- discov world: 1 ocurrencia(s)\n",
      "- world water: 1 ocurrencia(s)\n",
      "- water impress: 1 ocurrencia(s)\n",
      "- impress princ: 1 ocurrencia(s)\n",
      "Documento 2:\n",
      "- adventur: 1 ocurrencia(s)\n",
      "- famili: 1 ocurrencia(s)\n",
      "- action: 1 ocurrencia(s)\n",
      "- crime: 1 ocurrencia(s)\n",
      "- dom: 1 ocurrencia(s)\n",
      "- toretto: 1 ocurrencia(s)\n",
      "- target: 1 ocurrencia(s)\n",
      "- veng: 1 ocurrencia(s)\n",
      "- son: 1 ocurrencia(s)\n",
      "- drug: 1 ocurrencia(s)\n",
      "- kingpin: 1 ocurrencia(s)\n",
      "- hernan: 1 ocurrencia(s)\n",
      "- rey: 1 ocurrencia(s)\n",
      "- action adventur: 1 ocurrencia(s)\n",
      "- adventur crime: 1 ocurrencia(s)\n",
      "- crime dom: 1 ocurrencia(s)\n",
      "- dom toretto: 1 ocurrencia(s)\n",
      "- toretto famili: 1 ocurrencia(s)\n",
      "- famili target: 1 ocurrencia(s)\n",
      "- target veng: 1 ocurrencia(s)\n",
      "- veng son: 1 ocurrencia(s)\n",
      "- son drug: 1 ocurrencia(s)\n",
      "- drug kingpin: 1 ocurrencia(s)\n",
      "- kingpin hernan: 1 ocurrencia(s)\n",
      "- hernan rey: 1 ocurrencia(s)\n",
      "Documento 3:\n",
      "- adventur: 1 ocurrencia(s)\n",
      "- action: 1 ocurrencia(s)\n",
      "- action adventur: 1 ocurrencia(s)\n",
      "- comedi: 1 ocurrencia(s)\n",
      "- still: 1 ocurrencia(s)\n",
      "- reel: 1 ocurrencia(s)\n",
      "- loss: 1 ocurrencia(s)\n",
      "- gamora: 1 ocurrencia(s)\n",
      "- peter: 1 ocurrencia(s)\n",
      "- quill: 1 ocurrencia(s)\n",
      "- ralli: 1 ocurrencia(s)\n",
      "- team: 1 ocurrencia(s)\n",
      "- defend: 1 ocurrencia(s)\n",
      "- univers: 1 ocurrencia(s)\n",
      "- one: 1 ocurrencia(s)\n",
      "- mission: 1 ocurrencia(s)\n",
      "- could: 1 ocurrencia(s)\n",
      "- mean: 1 ocurrencia(s)\n",
      "- end: 1 ocurrencia(s)\n",
      "- guardian: 1 ocurrencia(s)\n",
      "- success: 1 ocurrencia(s)\n",
      "- adventur comedi: 1 ocurrencia(s)\n",
      "- comedi still: 1 ocurrencia(s)\n",
      "- still reel: 1 ocurrencia(s)\n",
      "- reel loss: 1 ocurrencia(s)\n",
      "- loss gamora: 1 ocurrencia(s)\n",
      "- gamora peter: 1 ocurrencia(s)\n",
      "- peter quill: 1 ocurrencia(s)\n",
      "- quill ralli: 1 ocurrencia(s)\n",
      "- ralli team: 1 ocurrencia(s)\n",
      "- team defend: 1 ocurrencia(s)\n",
      "- defend univers: 1 ocurrencia(s)\n",
      "- univers one: 1 ocurrencia(s)\n",
      "- one mission: 1 ocurrencia(s)\n",
      "- mission could: 1 ocurrencia(s)\n",
      "- could mean: 1 ocurrencia(s)\n",
      "- mean end: 1 ocurrencia(s)\n",
      "- end guardian: 1 ocurrencia(s)\n",
      "- guardian success: 1 ocurrencia(s)\n",
      "Documento 4:\n",
      "- crime: 1 ocurrencia(s)\n",
      "- drama: 1 ocurrencia(s)\n",
      "- histori: 1 ocurrencia(s)\n",
      "- member: 1 ocurrencia(s)\n",
      "- osag: 1 ocurrencia(s)\n",
      "- tribe: 1 ocurrencia(s)\n",
      "- unit: 1 ocurrencia(s)\n",
      "- state: 1 ocurrencia(s)\n",
      "- murder: 1 ocurrencia(s)\n",
      "- mysteri: 1 ocurrencia(s)\n",
      "- circumst: 1 ocurrencia(s)\n",
      "- 1920s: 1 ocurrencia(s)\n",
      "- spark: 1 ocurrencia(s)\n",
      "- major: 1 ocurrencia(s)\n",
      "- fbi: 1 ocurrencia(s)\n",
      "- investig: 1 ocurrencia(s)\n",
      "- involv: 1 ocurrencia(s)\n",
      "- edgar: 1 ocurrencia(s)\n",
      "- hoover: 1 ocurrencia(s)\n",
      "- crime drama: 1 ocurrencia(s)\n",
      "- drama histori: 1 ocurrencia(s)\n",
      "- histori member: 1 ocurrencia(s)\n",
      "- member osag: 1 ocurrencia(s)\n",
      "- osag tribe: 1 ocurrencia(s)\n",
      "- tribe unit: 1 ocurrencia(s)\n",
      "- unit state: 1 ocurrencia(s)\n",
      "- state murder: 1 ocurrencia(s)\n",
      "- murder mysteri: 1 ocurrencia(s)\n",
      "- mysteri circumst: 1 ocurrencia(s)\n",
      "- circumst 1920s: 1 ocurrencia(s)\n",
      "- 1920s spark: 1 ocurrencia(s)\n",
      "- spark major: 1 ocurrencia(s)\n",
      "- major fbi: 1 ocurrencia(s)\n",
      "- fbi investig: 1 ocurrencia(s)\n",
      "- investig involv: 1 ocurrencia(s)\n",
      "- involv edgar: 1 ocurrencia(s)\n",
      "- edgar hoover: 1 ocurrencia(s)\n",
      "Documento 5:\n",
      "- action: 1 ocurrencia(s)\n",
      "- crime: 1 ocurrencia(s)\n",
      "- thriller: 1 ocurrencia(s)\n",
      "- john: 1 ocurrencia(s)\n",
      "- wick: 2 ocurrencia(s)\n",
      "- uncov: 1 ocurrencia(s)\n",
      "- path: 1 ocurrencia(s)\n",
      "- defeat: 1 ocurrencia(s)\n",
      "- high: 1 ocurrencia(s)\n",
      "- tabl: 1 ocurrencia(s)\n",
      "- earn: 1 ocurrencia(s)\n",
      "- freedom: 1 ocurrencia(s)\n",
      "- must: 1 ocurrencia(s)\n",
      "- face: 1 ocurrencia(s)\n",
      "- new: 1 ocurrencia(s)\n",
      "- enemi: 1 ocurrencia(s)\n",
      "- power: 1 ocurrencia(s)\n",
      "- allianc: 1 ocurrencia(s)\n",
      "- across: 1 ocurrencia(s)\n",
      "- globe: 1 ocurrencia(s)\n",
      "- forc: 1 ocurrencia(s)\n",
      "- turn: 1 ocurrencia(s)\n",
      "- old: 1 ocurrencia(s)\n",
      "- friend: 1 ocurrencia(s)\n",
      "- foe: 1 ocurrencia(s)\n",
      "- action crime: 1 ocurrencia(s)\n",
      "- crime thriller: 1 ocurrencia(s)\n",
      "- thriller john: 1 ocurrencia(s)\n",
      "- john wick: 1 ocurrencia(s)\n",
      "- wick uncov: 1 ocurrencia(s)\n",
      "- uncov path: 1 ocurrencia(s)\n",
      "- path defeat: 1 ocurrencia(s)\n",
      "- defeat high: 1 ocurrencia(s)\n",
      "- high tabl: 1 ocurrencia(s)\n",
      "- tabl earn: 1 ocurrencia(s)\n",
      "- earn freedom: 1 ocurrencia(s)\n",
      "- freedom wick: 1 ocurrencia(s)\n",
      "- wick must: 1 ocurrencia(s)\n",
      "- must face: 1 ocurrencia(s)\n",
      "- face new: 1 ocurrencia(s)\n",
      "- new enemi: 1 ocurrencia(s)\n",
      "- enemi power: 1 ocurrencia(s)\n",
      "- power allianc: 1 ocurrencia(s)\n",
      "- allianc across: 1 ocurrencia(s)\n",
      "- across globe: 1 ocurrencia(s)\n",
      "- globe forc: 1 ocurrencia(s)\n",
      "- forc turn: 1 ocurrencia(s)\n",
      "- turn old: 1 ocurrencia(s)\n",
      "- old friend: 1 ocurrencia(s)\n",
      "- friend foe: 1 ocurrencia(s)\n",
      "Documento 6:\n",
      "- adventur: 2 ocurrencia(s)\n",
      "- action: 1 ocurrencia(s)\n",
      "- action adventur: 1 ocurrencia(s)\n",
      "- comedi: 1 ocurrencia(s)\n",
      "- adventur comedi: 1 ocurrencia(s)\n",
      "- charm: 1 ocurrencia(s)\n",
      "- thief: 1 ocurrencia(s)\n",
      "- band: 1 ocurrencia(s)\n",
      "- unlik: 1 ocurrencia(s)\n",
      "- embark: 1 ocurrencia(s)\n",
      "- epic: 1 ocurrencia(s)\n",
      "- quest: 1 ocurrencia(s)\n",
      "- retriev: 1 ocurrencia(s)\n",
      "- lost: 1 ocurrencia(s)\n",
      "- relic: 1 ocurrencia(s)\n",
      "- thing: 1 ocurrencia(s)\n",
      "- go: 1 ocurrencia(s)\n",
      "- danger: 1 ocurrencia(s)\n",
      "- awri: 1 ocurrencia(s)\n",
      "- run: 1 ocurrencia(s)\n",
      "- afoul: 1 ocurrencia(s)\n",
      "- wrong: 1 ocurrencia(s)\n",
      "- peopl: 1 ocurrencia(s)\n",
      "- comedi charm: 1 ocurrencia(s)\n",
      "- charm thief: 1 ocurrencia(s)\n",
      "- thief band: 1 ocurrencia(s)\n",
      "- band unlik: 1 ocurrencia(s)\n",
      "- unlik adventur: 1 ocurrencia(s)\n",
      "- adventur embark: 1 ocurrencia(s)\n",
      "- embark epic: 1 ocurrencia(s)\n",
      "- epic quest: 1 ocurrencia(s)\n",
      "- quest retriev: 1 ocurrencia(s)\n",
      "- retriev lost: 1 ocurrencia(s)\n",
      "- lost relic: 1 ocurrencia(s)\n",
      "- relic thing: 1 ocurrencia(s)\n",
      "- thing go: 1 ocurrencia(s)\n",
      "- go danger: 1 ocurrencia(s)\n",
      "- danger awri: 1 ocurrencia(s)\n",
      "- awri run: 1 ocurrencia(s)\n",
      "- run afoul: 1 ocurrencia(s)\n",
      "- afoul wrong: 1 ocurrencia(s)\n",
      "- wrong peopl: 1 ocurrencia(s)\n",
      "Documento 7:\n",
      "- adventur: 1 ocurrencia(s)\n",
      "- comedi: 1 ocurrencia(s)\n",
      "- adventur comedi: 1 ocurrencia(s)\n",
      "- anim: 1 ocurrencia(s)\n",
      "- plumber: 1 ocurrencia(s)\n",
      "- name: 1 ocurrencia(s)\n",
      "- mario: 1 ocurrencia(s)\n",
      "- travel: 1 ocurrencia(s)\n",
      "- underground: 1 ocurrencia(s)\n",
      "- labyrinth: 1 ocurrencia(s)\n",
      "- brother: 1 ocurrencia(s)\n",
      "- luigi: 1 ocurrencia(s)\n",
      "- tri: 1 ocurrencia(s)\n",
      "- save: 1 ocurrencia(s)\n",
      "- captur: 1 ocurrencia(s)\n",
      "- princess: 1 ocurrencia(s)\n",
      "- anim adventur: 1 ocurrencia(s)\n",
      "- comedi plumber: 1 ocurrencia(s)\n",
      "- plumber name: 1 ocurrencia(s)\n",
      "- name mario: 1 ocurrencia(s)\n",
      "- mario travel: 1 ocurrencia(s)\n",
      "- travel underground: 1 ocurrencia(s)\n",
      "- underground labyrinth: 1 ocurrencia(s)\n",
      "- labyrinth brother: 1 ocurrencia(s)\n",
      "- brother luigi: 1 ocurrencia(s)\n",
      "- luigi tri: 1 ocurrencia(s)\n",
      "- tri save: 1 ocurrencia(s)\n",
      "- save captur: 1 ocurrencia(s)\n",
      "- captur princess: 1 ocurrencia(s)\n",
      "Documento 8:\n",
      "- adventur: 1 ocurrencia(s)\n",
      "- action: 1 ocurrencia(s)\n",
      "- action adventur: 1 ocurrencia(s)\n",
      "- comedi: 1 ocurrencia(s)\n",
      "- adventur comedi: 1 ocurrencia(s)\n",
      "- mysteri: 1 ocurrencia(s)\n",
      "- must: 1 ocurrencia(s)\n",
      "- scott: 2 ocurrencia(s)\n",
      "- lang: 1 ocurrencia(s)\n",
      "- hope: 3 ocurrencia(s)\n",
      "- van: 1 ocurrencia(s)\n",
      "- dyne: 1 ocurrencia(s)\n",
      "- drag: 1 ocurrencia(s)\n",
      "- quantum: 1 ocurrencia(s)\n",
      "- realm: 1 ocurrencia(s)\n",
      "- along: 1 ocurrencia(s)\n",
      "- parent: 1 ocurrencia(s)\n",
      "- daughter: 1 ocurrencia(s)\n",
      "- cassi: 1 ocurrencia(s)\n",
      "- togeth: 1 ocurrencia(s)\n",
      "- find: 1 ocurrencia(s)\n",
      "- way: 1 ocurrencia(s)\n",
      "- escap: 1 ocurrencia(s)\n",
      "- secret: 1 ocurrencia(s)\n",
      "- mother: 1 ocurrencia(s)\n",
      "- hide: 1 ocurrencia(s)\n",
      "- kang: 1 ocurrencia(s)\n",
      "- comedi scott: 1 ocurrencia(s)\n",
      "- scott lang: 1 ocurrencia(s)\n",
      "- lang hope: 1 ocurrencia(s)\n",
      "- hope van: 1 ocurrencia(s)\n",
      "- van dyne: 1 ocurrencia(s)\n",
      "- dyne drag: 1 ocurrencia(s)\n",
      "- drag quantum: 1 ocurrencia(s)\n",
      "- quantum realm: 1 ocurrencia(s)\n",
      "- realm along: 1 ocurrencia(s)\n",
      "- along hope: 1 ocurrencia(s)\n",
      "- hope parent: 1 ocurrencia(s)\n",
      "- parent scott: 1 ocurrencia(s)\n",
      "- scott daughter: 1 ocurrencia(s)\n",
      "- daughter cassi: 1 ocurrencia(s)\n",
      "- cassi togeth: 1 ocurrencia(s)\n",
      "- togeth must: 1 ocurrencia(s)\n",
      "- must find: 1 ocurrencia(s)\n",
      "- find way: 1 ocurrencia(s)\n",
      "- way escap: 1 ocurrencia(s)\n",
      "- escap secret: 1 ocurrencia(s)\n",
      "- secret hope: 1 ocurrencia(s)\n",
      "- hope mother: 1 ocurrencia(s)\n",
      "- mother hide: 1 ocurrencia(s)\n",
      "- hide mysteri: 1 ocurrencia(s)\n",
      "- mysteri kang: 1 ocurrencia(s)\n",
      "Documento 9:\n",
      "- drama: 1 ocurrencia(s)\n",
      "- histori: 2 ocurrencia(s)\n",
      "- sport: 1 ocurrencia(s)\n",
      "- follow: 1 ocurrencia(s)\n",
      "- shoe: 1 ocurrencia(s)\n",
      "- salesman: 1 ocurrencia(s)\n",
      "- sonni: 1 ocurrencia(s)\n",
      "- vaccaro: 1 ocurrencia(s)\n",
      "- led: 1 ocurrencia(s)\n",
      "- nike: 1 ocurrencia(s)\n",
      "- pursuit: 1 ocurrencia(s)\n",
      "- greatest: 1 ocurrencia(s)\n",
      "- athlet: 1 ocurrencia(s)\n",
      "- basketbal: 1 ocurrencia(s)\n",
      "- michael: 1 ocurrencia(s)\n",
      "- jordan: 1 ocurrencia(s)\n",
      "- drama sport: 1 ocurrencia(s)\n",
      "- sport follow: 1 ocurrencia(s)\n",
      "- follow histori: 1 ocurrencia(s)\n",
      "- histori shoe: 1 ocurrencia(s)\n",
      "- shoe salesman: 1 ocurrencia(s)\n",
      "- salesman sonni: 1 ocurrencia(s)\n",
      "- sonni vaccaro: 1 ocurrencia(s)\n",
      "- vaccaro led: 1 ocurrencia(s)\n",
      "- led nike: 1 ocurrencia(s)\n",
      "- nike pursuit: 1 ocurrencia(s)\n",
      "- pursuit greatest: 1 ocurrencia(s)\n",
      "- greatest athlet: 1 ocurrencia(s)\n",
      "- athlet histori: 1 ocurrencia(s)\n",
      "- histori basketbal: 1 ocurrencia(s)\n",
      "- basketbal michael: 1 ocurrencia(s)\n",
      "- michael jordan: 1 ocurrencia(s)\n",
      "Documento 10:\n",
      "- adventur: 1 ocurrencia(s)\n",
      "- famili: 1 ocurrencia(s)\n",
      "- fantasi: 1 ocurrencia(s)\n",
      "- world: 1 ocurrencia(s)\n",
      "- action: 1 ocurrencia(s)\n",
      "- action adventur: 1 ocurrencia(s)\n",
      "- forc: 1 ocurrencia(s)\n",
      "- save: 2 ocurrencia(s)\n",
      "- barri: 1 ocurrencia(s)\n",
      "- allen: 1 ocurrencia(s)\n",
      "- use: 1 ocurrencia(s)\n",
      "- super: 2 ocurrencia(s)\n",
      "- speed: 1 ocurrencia(s)\n",
      "- chang: 1 ocurrencia(s)\n",
      "- past: 1 ocurrencia(s)\n",
      "- attempt: 1 ocurrencia(s)\n",
      "- creat: 1 ocurrencia(s)\n",
      "- without: 1 ocurrencia(s)\n",
      "- hero: 1 ocurrencia(s)\n",
      "- race: 1 ocurrencia(s)\n",
      "- life: 1 ocurrencia(s)\n",
      "- order: 1 ocurrencia(s)\n",
      "- futur: 1 ocurrencia(s)\n",
      "- adventur fantasi: 1 ocurrencia(s)\n",
      "- fantasi barri: 1 ocurrencia(s)\n",
      "- barri allen: 1 ocurrencia(s)\n",
      "- allen use: 1 ocurrencia(s)\n",
      "- use super: 1 ocurrencia(s)\n",
      "- super speed: 1 ocurrencia(s)\n",
      "- speed chang: 1 ocurrencia(s)\n",
      "- chang past: 1 ocurrencia(s)\n",
      "- past attempt: 1 ocurrencia(s)\n",
      "- attempt save: 1 ocurrencia(s)\n",
      "- save famili: 1 ocurrencia(s)\n",
      "- famili creat: 1 ocurrencia(s)\n",
      "- creat world: 1 ocurrencia(s)\n",
      "- world without: 1 ocurrencia(s)\n",
      "- without super: 1 ocurrencia(s)\n",
      "- super hero: 1 ocurrencia(s)\n",
      "- hero forc: 1 ocurrencia(s)\n",
      "- forc race: 1 ocurrencia(s)\n",
      "- race life: 1 ocurrencia(s)\n",
      "- life order: 1 ocurrencia(s)\n",
      "- order save: 1 ocurrencia(s)\n",
      "- save futur: 1 ocurrencia(s)\n",
      "Documento 11:\n",
      "- adventur: 1 ocurrencia(s)\n",
      "- fantasi: 1 ocurrencia(s)\n",
      "- comedi: 1 ocurrencia(s)\n",
      "- adventur comedi: 1 ocurrencia(s)\n",
      "- live: 1 ocurrencia(s)\n",
      "- barbi: 1 ocurrencia(s)\n",
      "- land: 1 ocurrencia(s)\n",
      "- perfect: 2 ocurrencia(s)\n",
      "- place: 1 ocurrencia(s)\n",
      "- unless: 1 ocurrencia(s)\n",
      "- fullon: 1 ocurrencia(s)\n",
      "- existenti: 1 ocurrencia(s)\n",
      "- crisi: 1 ocurrencia(s)\n",
      "- your: 1 ocurrencia(s)\n",
      "- ken: 1 ocurrencia(s)\n",
      "- comedi fantasi: 1 ocurrencia(s)\n",
      "- fantasi live: 1 ocurrencia(s)\n",
      "- live barbi: 1 ocurrencia(s)\n",
      "- barbi land: 1 ocurrencia(s)\n",
      "- land perfect: 1 ocurrencia(s)\n",
      "- perfect perfect: 1 ocurrencia(s)\n",
      "- perfect place: 1 ocurrencia(s)\n",
      "- place unless: 1 ocurrencia(s)\n",
      "- unless fullon: 1 ocurrencia(s)\n",
      "- fullon existenti: 1 ocurrencia(s)\n",
      "- existenti crisi: 1 ocurrencia(s)\n",
      "- crisi your: 1 ocurrencia(s)\n",
      "- your ken: 1 ocurrencia(s)\n",
      "Documento 12:\n",
      "- action: 1 ocurrencia(s)\n",
      "- thriller: 1 ocurrencia(s)\n",
      "- danger: 1 ocurrencia(s)\n",
      "- daughter: 1 ocurrencia(s)\n",
      "- hide: 1 ocurrencia(s)\n",
      "- life: 1 ocurrencia(s)\n",
      "- flee: 1 ocurrencia(s)\n",
      "- assail: 1 ocurrencia(s)\n",
      "- assassin: 1 ocurrencia(s)\n",
      "- come: 1 ocurrencia(s)\n",
      "- protect: 1 ocurrencia(s)\n",
      "- left: 1 ocurrencia(s)\n",
      "- earlier: 1 ocurrencia(s)\n",
      "- action thriller: 1 ocurrencia(s)\n",
      "- thriller flee: 1 ocurrencia(s)\n",
      "- flee danger: 1 ocurrencia(s)\n",
      "- danger assail: 1 ocurrencia(s)\n",
      "- assail assassin: 1 ocurrencia(s)\n",
      "- assassin come: 1 ocurrencia(s)\n",
      "- come hide: 1 ocurrencia(s)\n",
      "- hide protect: 1 ocurrencia(s)\n",
      "- protect daughter: 1 ocurrencia(s)\n",
      "- daughter left: 1 ocurrencia(s)\n",
      "- left earlier: 1 ocurrencia(s)\n",
      "- earlier life: 1 ocurrencia(s)\n",
      "Documento 13:\n",
      "- adventur: 1 ocurrencia(s)\n",
      "- action: 1 ocurrencia(s)\n",
      "- action adventur: 1 ocurrencia(s)\n",
      "- histori: 1 ocurrencia(s)\n",
      "- retriev: 1 ocurrencia(s)\n",
      "- chang: 1 ocurrencia(s)\n",
      "- race: 1 ocurrencia(s)\n",
      "- archaeologist: 1 ocurrencia(s)\n",
      "- indiana: 1 ocurrencia(s)\n",
      "- jone: 1 ocurrencia(s)\n",
      "- time: 1 ocurrencia(s)\n",
      "- legendari: 1 ocurrencia(s)\n",
      "- artifact: 1 ocurrencia(s)\n",
      "- cours: 1 ocurrencia(s)\n",
      "- adventur archaeologist: 1 ocurrencia(s)\n",
      "- archaeologist indiana: 1 ocurrencia(s)\n",
      "- indiana jone: 1 ocurrencia(s)\n",
      "- jone race: 1 ocurrencia(s)\n",
      "- race time: 1 ocurrencia(s)\n",
      "- time retriev: 1 ocurrencia(s)\n",
      "- retriev legendari: 1 ocurrencia(s)\n",
      "- legendari artifact: 1 ocurrencia(s)\n",
      "- artifact chang: 1 ocurrencia(s)\n",
      "- chang cours: 1 ocurrencia(s)\n",
      "- cours histori: 1 ocurrencia(s)\n",
      "Documento 14:\n",
      "- comedi: 1 ocurrencia(s)\n",
      "- team: 1 ocurrencia(s)\n",
      "- drama: 1 ocurrencia(s)\n",
      "- earn: 1 ocurrencia(s)\n",
      "- sport: 1 ocurrencia(s)\n",
      "- basketbal: 1 ocurrencia(s)\n",
      "- drama sport: 1 ocurrencia(s)\n",
      "- remak: 1 ocurrencia(s)\n",
      "- 1992: 1 ocurrencia(s)\n",
      "- film: 1 ocurrencia(s)\n",
      "- pair: 1 ocurrencia(s)\n",
      "- hustler: 1 ocurrencia(s)\n",
      "- extra: 1 ocurrencia(s)\n",
      "- cash: 1 ocurrencia(s)\n",
      "- comedi drama: 1 ocurrencia(s)\n",
      "- sport remak: 1 ocurrencia(s)\n",
      "- remak 1992: 1 ocurrencia(s)\n",
      "- 1992 film: 1 ocurrencia(s)\n",
      "- film pair: 1 ocurrencia(s)\n",
      "- pair basketbal: 1 ocurrencia(s)\n",
      "- basketbal hustler: 1 ocurrencia(s)\n",
      "- hustler team: 1 ocurrencia(s)\n",
      "- team earn: 1 ocurrencia(s)\n",
      "- earn extra: 1 ocurrencia(s)\n",
      "- extra cash: 1 ocurrencia(s)\n",
      "Documento 15:\n",
      "- action: 1 ocurrencia(s)\n",
      "- thriller: 1 ocurrencia(s)\n",
      "- across: 1 ocurrencia(s)\n",
      "- life: 1 ocurrencia(s)\n",
      "- action thriller: 1 ocurrencia(s)\n",
      "- war: 2 ocurrencia(s)\n",
      "- afghanistan: 1 ocurrencia(s)\n",
      "- local: 1 ocurrencia(s)\n",
      "- interpret: 1 ocurrencia(s)\n",
      "- risk: 1 ocurrencia(s)\n",
      "- carri: 1 ocurrencia(s)\n",
      "- injur: 1 ocurrencia(s)\n",
      "- sergeant: 1 ocurrencia(s)\n",
      "- mile: 1 ocurrencia(s)\n",
      "- gruel: 1 ocurrencia(s)\n",
      "- terrain: 1 ocurrencia(s)\n",
      "- thriller war: 1 ocurrencia(s)\n",
      "- war war: 1 ocurrencia(s)\n",
      "- war afghanistan: 1 ocurrencia(s)\n",
      "- afghanistan local: 1 ocurrencia(s)\n",
      "- local interpret: 1 ocurrencia(s)\n",
      "- interpret risk: 1 ocurrencia(s)\n",
      "- risk life: 1 ocurrencia(s)\n",
      "- life carri: 1 ocurrencia(s)\n",
      "- carri injur: 1 ocurrencia(s)\n",
      "- injur sergeant: 1 ocurrencia(s)\n",
      "- sergeant across: 1 ocurrencia(s)\n",
      "- across mile: 1 ocurrencia(s)\n",
      "- mile gruel: 1 ocurrencia(s)\n",
      "- gruel terrain: 1 ocurrencia(s)\n",
      "Documento 16:\n",
      "- famili: 1 ocurrencia(s)\n",
      "- face: 1 ocurrencia(s)\n",
      "- horror: 1 ocurrencia(s)\n",
      "- twist: 1 ocurrencia(s)\n",
      "- tale: 1 ocurrencia(s)\n",
      "- two: 1 ocurrencia(s)\n",
      "- estrang: 1 ocurrencia(s)\n",
      "- sister: 1 ocurrencia(s)\n",
      "- whose: 1 ocurrencia(s)\n",
      "- reunion: 1 ocurrencia(s)\n",
      "- cut: 1 ocurrencia(s)\n",
      "- short: 1 ocurrencia(s)\n",
      "- rise: 1 ocurrencia(s)\n",
      "- fleshpossess: 1 ocurrencia(s)\n",
      "- demon: 1 ocurrencia(s)\n",
      "- thrust: 1 ocurrencia(s)\n",
      "- primal: 1 ocurrencia(s)\n",
      "- battl: 1 ocurrencia(s)\n",
      "- surviv: 1 ocurrencia(s)\n",
      "- nightmarish: 1 ocurrencia(s)\n",
      "- version: 1 ocurrencia(s)\n",
      "- imagin: 1 ocurrencia(s)\n",
      "- horror twist: 1 ocurrencia(s)\n",
      "- twist tale: 1 ocurrencia(s)\n",
      "- tale two: 1 ocurrencia(s)\n",
      "- two estrang: 1 ocurrencia(s)\n",
      "- estrang sister: 1 ocurrencia(s)\n",
      "- sister whose: 1 ocurrencia(s)\n",
      "- whose reunion: 1 ocurrencia(s)\n",
      "- reunion cut: 1 ocurrencia(s)\n",
      "- cut short: 1 ocurrencia(s)\n",
      "- short rise: 1 ocurrencia(s)\n",
      "- rise fleshpossess: 1 ocurrencia(s)\n",
      "- fleshpossess demon: 1 ocurrencia(s)\n",
      "- demon thrust: 1 ocurrencia(s)\n",
      "- thrust primal: 1 ocurrencia(s)\n",
      "- primal battl: 1 ocurrencia(s)\n",
      "- battl surviv: 1 ocurrencia(s)\n",
      "- surviv face: 1 ocurrencia(s)\n",
      "- face nightmarish: 1 ocurrencia(s)\n",
      "- nightmarish version: 1 ocurrencia(s)\n",
      "- version famili: 1 ocurrencia(s)\n",
      "- famili imagin: 1 ocurrencia(s)\n",
      "Documento 17:\n",
      "- action: 1 ocurrencia(s)\n",
      "- comedi: 1 ocurrencia(s)\n",
      "- wrong: 1 ocurrencia(s)\n",
      "- past: 1 ocurrencia(s)\n",
      "- bert: 2 ocurrencia(s)\n",
      "- drunken: 1 ocurrencia(s)\n",
      "- catch: 1 ocurrencia(s)\n",
      "- 20: 2 ocurrencia(s)\n",
      "- year: 2 ocurrencia(s)\n",
      "- road: 1 ocurrencia(s)\n",
      "- father: 1 ocurrencia(s)\n",
      "- kidnap: 1 ocurrencia(s)\n",
      "- ago: 1 ocurrencia(s)\n",
      "- drunk: 1 ocurrencia(s)\n",
      "- colleg: 1 ocurrencia(s)\n",
      "- semest: 1 ocurrencia(s)\n",
      "- abroad: 1 ocurrencia(s)\n",
      "- russia: 1 ocurrencia(s)\n",
      "- action comedi: 1 ocurrencia(s)\n",
      "- comedi bert: 1 ocurrencia(s)\n",
      "- bert drunken: 1 ocurrencia(s)\n",
      "- drunken past: 1 ocurrencia(s)\n",
      "- past catch: 1 ocurrencia(s)\n",
      "- catch 20: 1 ocurrencia(s)\n",
      "- 20 year: 2 ocurrencia(s)\n",
      "- year road: 1 ocurrencia(s)\n",
      "- road father: 1 ocurrencia(s)\n",
      "- father kidnap: 1 ocurrencia(s)\n",
      "- kidnap bert: 1 ocurrencia(s)\n",
      "- bert wrong: 1 ocurrencia(s)\n",
      "- wrong 20: 1 ocurrencia(s)\n",
      "- year ago: 1 ocurrencia(s)\n",
      "- ago drunk: 1 ocurrencia(s)\n",
      "- drunk colleg: 1 ocurrencia(s)\n",
      "- colleg semest: 1 ocurrencia(s)\n",
      "- semest abroad: 1 ocurrencia(s)\n",
      "- abroad russia: 1 ocurrencia(s)\n",
      "Documento 18:\n",
      "- adventur: 1 ocurrencia(s)\n",
      "- action: 1 ocurrencia(s)\n",
      "- action adventur: 1 ocurrencia(s)\n",
      "- comedi: 1 ocurrencia(s)\n",
      "- adventur comedi: 1 ocurrencia(s)\n",
      "- super: 1 ocurrencia(s)\n",
      "- hero: 1 ocurrencia(s)\n",
      "- super hero: 1 ocurrencia(s)\n",
      "- film: 1 ocurrencia(s)\n",
      "- continu: 1 ocurrencia(s)\n",
      "- stori: 1 ocurrencia(s)\n",
      "- teenag: 1 ocurrencia(s)\n",
      "- billi: 1 ocurrencia(s)\n",
      "- batson: 1 ocurrencia(s)\n",
      "- upon: 1 ocurrencia(s)\n",
      "- recit: 1 ocurrencia(s)\n",
      "- magic: 1 ocurrencia(s)\n",
      "- word: 1 ocurrencia(s)\n",
      "- shazam: 2 ocurrencia(s)\n",
      "- transform: 1 ocurrencia(s)\n",
      "- adult: 1 ocurrencia(s)\n",
      "- alter: 1 ocurrencia(s)\n",
      "- ego: 1 ocurrencia(s)\n",
      "- comedi film: 1 ocurrencia(s)\n",
      "- film continu: 1 ocurrencia(s)\n",
      "- continu stori: 1 ocurrencia(s)\n",
      "- stori teenag: 1 ocurrencia(s)\n",
      "- teenag billi: 1 ocurrencia(s)\n",
      "- billi batson: 1 ocurrencia(s)\n",
      "- batson upon: 1 ocurrencia(s)\n",
      "- upon recit: 1 ocurrencia(s)\n",
      "- recit magic: 1 ocurrencia(s)\n",
      "- magic word: 1 ocurrencia(s)\n",
      "- word shazam: 1 ocurrencia(s)\n",
      "- shazam transform: 1 ocurrencia(s)\n",
      "- transform adult: 1 ocurrencia(s)\n",
      "- adult super: 1 ocurrencia(s)\n",
      "- hero alter: 1 ocurrencia(s)\n",
      "- alter ego: 1 ocurrencia(s)\n",
      "- ego shazam: 1 ocurrencia(s)\n",
      "Documento 19:\n",
      "- famili: 1 ocurrencia(s)\n",
      "- young: 1 ocurrencia(s)\n",
      "- world: 1 ocurrencia(s)\n",
      "- comedi: 1 ocurrencia(s)\n",
      "- loss: 1 ocurrencia(s)\n",
      "- end: 1 ocurrencia(s)\n",
      "- drama: 1 ocurrencia(s)\n",
      "- turn: 1 ocurrencia(s)\n",
      "- follow: 1 ocurrencia(s)\n",
      "- life: 1 ocurrencia(s)\n",
      "- comedi drama: 1 ocurrencia(s)\n",
      "- otto: 1 ocurrencia(s)\n",
      "- grump: 1 ocurrencia(s)\n",
      "- whos: 1 ocurrencia(s)\n",
      "- given: 1 ocurrencia(s)\n",
      "- wife: 1 ocurrencia(s)\n",
      "- want: 1 ocurrencia(s)\n",
      "- move: 1 ocurrencia(s)\n",
      "- nearbi: 1 ocurrencia(s)\n",
      "- meet: 1 ocurrencia(s)\n",
      "- match: 1 ocurrencia(s)\n",
      "- quickwit: 1 ocurrencia(s)\n",
      "- marisol: 1 ocurrencia(s)\n",
      "- lead: 1 ocurrencia(s)\n",
      "- friendship: 1 ocurrencia(s)\n",
      "- around: 1 ocurrencia(s)\n",
      "- drama otto: 1 ocurrencia(s)\n",
      "- otto grump: 1 ocurrencia(s)\n",
      "- grump whos: 1 ocurrencia(s)\n",
      "- whos given: 1 ocurrencia(s)\n",
      "- given life: 1 ocurrencia(s)\n",
      "- life follow: 1 ocurrencia(s)\n",
      "- follow loss: 1 ocurrencia(s)\n",
      "- loss wife: 1 ocurrencia(s)\n",
      "- wife want: 1 ocurrencia(s)\n",
      "- want end: 1 ocurrencia(s)\n",
      "- end young: 1 ocurrencia(s)\n",
      "- young famili: 1 ocurrencia(s)\n",
      "- famili move: 1 ocurrencia(s)\n",
      "- move nearbi: 1 ocurrencia(s)\n",
      "- nearbi meet: 1 ocurrencia(s)\n",
      "- meet match: 1 ocurrencia(s)\n",
      "- match quickwit: 1 ocurrencia(s)\n",
      "- quickwit marisol: 1 ocurrencia(s)\n",
      "- marisol lead: 1 ocurrencia(s)\n",
      "- lead friendship: 1 ocurrencia(s)\n",
      "- friendship turn: 1 ocurrencia(s)\n",
      "- turn world: 1 ocurrencia(s)\n",
      "- world around: 1 ocurrencia(s)\n",
      "Documento 20:\n",
      "- comedi: 1 ocurrencia(s)\n",
      "- drama: 1 ocurrencia(s)\n",
      "- comedi drama: 1 ocurrencia(s)\n",
      "- romanc: 1 ocurrencia(s)\n",
      "- itinerari: 1 ocurrencia(s)\n",
      "- junior: 1 ocurrencia(s)\n",
      "- stargaz: 1 ocurrencia(s)\n",
      "- convent: 1 ocurrencia(s)\n",
      "- spectacular: 1 ocurrencia(s)\n",
      "- disrupt: 1 ocurrencia(s)\n",
      "- worldchang: 1 ocurrencia(s)\n",
      "- event: 1 ocurrencia(s)\n",
      "- drama romanc: 1 ocurrencia(s)\n",
      "- romanc itinerari: 1 ocurrencia(s)\n",
      "- itinerari junior: 1 ocurrencia(s)\n",
      "- junior stargaz: 1 ocurrencia(s)\n",
      "- stargaz convent: 1 ocurrencia(s)\n",
      "- convent spectacular: 1 ocurrencia(s)\n",
      "- spectacular disrupt: 1 ocurrencia(s)\n",
      "- disrupt worldchang: 1 ocurrencia(s)\n",
      "- worldchang event: 1 ocurrencia(s)\n",
      "Documento 21:\n",
      "- horror: 1 ocurrencia(s)\n",
      "- troubl: 1 ocurrencia(s)\n",
      "- secur: 1 ocurrencia(s)\n",
      "- guard: 1 ocurrencia(s)\n",
      "- begin: 1 ocurrencia(s)\n",
      "- work: 1 ocurrencia(s)\n",
      "- freddi: 2 ocurrencia(s)\n",
      "- fazbear: 1 ocurrencia(s)\n",
      "- pizza: 1 ocurrencia(s)\n",
      "- first: 1 ocurrencia(s)\n",
      "- night: 2 ocurrencia(s)\n",
      "- job: 1 ocurrencia(s)\n",
      "- realiz: 1 ocurrencia(s)\n",
      "- shift: 1 ocurrencia(s)\n",
      "- wont: 1 ocurrencia(s)\n",
      "- easi: 1 ocurrencia(s)\n",
      "- get: 1 ocurrencia(s)\n",
      "- horror troubl: 1 ocurrencia(s)\n",
      "- troubl secur: 1 ocurrencia(s)\n",
      "- secur guard: 1 ocurrencia(s)\n",
      "- guard begin: 1 ocurrencia(s)\n",
      "- begin work: 1 ocurrencia(s)\n",
      "- work freddi: 1 ocurrencia(s)\n",
      "- freddi fazbear: 1 ocurrencia(s)\n",
      "- fazbear pizza: 1 ocurrencia(s)\n",
      "- pizza first: 1 ocurrencia(s)\n",
      "- first night: 1 ocurrencia(s)\n",
      "- night job: 1 ocurrencia(s)\n",
      "- job realiz: 1 ocurrencia(s)\n",
      "- realiz night: 1 ocurrencia(s)\n",
      "- night shift: 1 ocurrencia(s)\n",
      "- shift freddi: 1 ocurrencia(s)\n",
      "- freddi wont: 1 ocurrencia(s)\n",
      "- wont easi: 1 ocurrencia(s)\n",
      "- easi get: 1 ocurrencia(s)\n",
      "Documento 22:\n",
      "- adventur: 1 ocurrencia(s)\n",
      "- action: 1 ocurrencia(s)\n",
      "- action adventur: 1 ocurrencia(s)\n",
      "- team: 1 ocurrencia(s)\n",
      "- mean: 1 ocurrencia(s)\n",
      "- must: 1 ocurrencia(s)\n",
      "- new: 1 ocurrencia(s)\n",
      "- across: 1 ocurrencia(s)\n",
      "- anim: 1 ocurrencia(s)\n",
      "- hero: 2 ocurrencia(s)\n",
      "- protect: 1 ocurrencia(s)\n",
      "- mile: 2 ocurrencia(s)\n",
      "- moral: 1 ocurrencia(s)\n",
      "- catapult: 1 ocurrencia(s)\n",
      "- multivers: 1 ocurrencia(s)\n",
      "- encount: 1 ocurrencia(s)\n",
      "- spiderpeopl: 1 ocurrencia(s)\n",
      "- charg: 1 ocurrencia(s)\n",
      "- exist: 1 ocurrencia(s)\n",
      "- clash: 1 ocurrencia(s)\n",
      "- handl: 1 ocurrencia(s)\n",
      "- threat: 1 ocurrencia(s)\n",
      "- redefin: 1 ocurrencia(s)\n",
      "- anim action: 1 ocurrencia(s)\n",
      "- adventur mile: 1 ocurrencia(s)\n",
      "- mile moral: 1 ocurrencia(s)\n",
      "- moral catapult: 1 ocurrencia(s)\n",
      "- catapult across: 1 ocurrencia(s)\n",
      "- across multivers: 1 ocurrencia(s)\n",
      "- multivers encount: 1 ocurrencia(s)\n",
      "- encount team: 1 ocurrencia(s)\n",
      "- team spiderpeopl: 1 ocurrencia(s)\n",
      "- spiderpeopl charg: 1 ocurrencia(s)\n",
      "- charg protect: 1 ocurrencia(s)\n",
      "- protect exist: 1 ocurrencia(s)\n",
      "- exist hero: 1 ocurrencia(s)\n",
      "- hero clash: 1 ocurrencia(s)\n",
      "- clash handl: 1 ocurrencia(s)\n",
      "- handl new: 1 ocurrencia(s)\n",
      "- new threat: 1 ocurrencia(s)\n",
      "- threat mile: 1 ocurrencia(s)\n",
      "- mile must: 1 ocurrencia(s)\n",
      "- must redefin: 1 ocurrencia(s)\n",
      "- redefin mean: 1 ocurrencia(s)\n",
      "- mean hero: 1 ocurrencia(s)\n"
     ]
    },
    {
     "ename": "KeyboardInterrupt",
     "evalue": "ignored",
     "output_type": "error",
     "traceback": [
      "\u001b[0;31m---------------------------------------------------------------------------\u001b[0m",
      "\u001b[0;31mKeyboardInterrupt\u001b[0m                         Traceback (most recent call last)",
      "\u001b[0;32m<ipython-input-34-16cfbc9d68ca>\u001b[0m in \u001b[0;36m<cell line: 1>\u001b[0;34m()\u001b[0m\n\u001b[0;32m----> 1\u001b[0;31m \u001b[0mvectores\u001b[0m\u001b[0;34m(\u001b[0m\u001b[0mdf\u001b[0m\u001b[0;34m[\u001b[0m\u001b[0;34m'origenes'\u001b[0m\u001b[0;34m]\u001b[0m\u001b[0;34m)\u001b[0m\u001b[0;34m\u001b[0m\u001b[0;34m\u001b[0m\u001b[0m\n\u001b[0m",
      "\u001b[0;32m<ipython-input-33-0a8dbbcc10c5>\u001b[0m in \u001b[0;36mvectores\u001b[0;34m(corpus)\u001b[0m\n\u001b[1;32m     10\u001b[0m         \u001b[0mprint\u001b[0m\u001b[0;34m(\u001b[0m\u001b[0;34mf\"Documento {i+1}:\"\u001b[0m\u001b[0;34m)\u001b[0m\u001b[0;34m\u001b[0m\u001b[0;34m\u001b[0m\u001b[0m\n\u001b[1;32m     11\u001b[0m         \u001b[0;32mfor\u001b[0m \u001b[0mfeature\u001b[0m\u001b[0;34m,\u001b[0m \u001b[0mindex\u001b[0m \u001b[0;32min\u001b[0m \u001b[0mvocab\u001b[0m\u001b[0;34m.\u001b[0m\u001b[0mitems\u001b[0m\u001b[0;34m(\u001b[0m\u001b[0;34m)\u001b[0m\u001b[0;34m:\u001b[0m\u001b[0;34m\u001b[0m\u001b[0;34m\u001b[0m\u001b[0m\n\u001b[0;32m---> 12\u001b[0;31m             \u001b[0;32mif\u001b[0m \u001b[0mX\u001b[0m\u001b[0;34m[\u001b[0m\u001b[0mi\u001b[0m\u001b[0;34m,\u001b[0m \u001b[0mindex\u001b[0m\u001b[0;34m]\u001b[0m \u001b[0;34m>\u001b[0m \u001b[0;36m0\u001b[0m\u001b[0;34m:\u001b[0m\u001b[0;34m\u001b[0m\u001b[0;34m\u001b[0m\u001b[0m\n\u001b[0m\u001b[1;32m     13\u001b[0m                 \u001b[0mprint\u001b[0m\u001b[0;34m(\u001b[0m\u001b[0;34mf\"- {feature}: {X[i, index]} ocurrencia(s)\"\u001b[0m\u001b[0;34m)\u001b[0m\u001b[0;34m\u001b[0m\u001b[0;34m\u001b[0m\u001b[0m\n",
      "\u001b[0;32m/usr/local/lib/python3.10/dist-packages/scipy/sparse/_index.py\u001b[0m in \u001b[0;36m__getitem__\u001b[0;34m(self, key)\u001b[0m\n\u001b[1;32m     45\u001b[0m \u001b[0;34m\u001b[0m\u001b[0m\n\u001b[1;32m     46\u001b[0m     \u001b[0;32mdef\u001b[0m \u001b[0m__getitem__\u001b[0m\u001b[0;34m(\u001b[0m\u001b[0mself\u001b[0m\u001b[0;34m,\u001b[0m \u001b[0mkey\u001b[0m\u001b[0;34m)\u001b[0m\u001b[0;34m:\u001b[0m\u001b[0;34m\u001b[0m\u001b[0;34m\u001b[0m\u001b[0m\n\u001b[0;32m---> 47\u001b[0;31m         \u001b[0mrow\u001b[0m\u001b[0;34m,\u001b[0m \u001b[0mcol\u001b[0m \u001b[0;34m=\u001b[0m \u001b[0mself\u001b[0m\u001b[0;34m.\u001b[0m\u001b[0m_validate_indices\u001b[0m\u001b[0;34m(\u001b[0m\u001b[0mkey\u001b[0m\u001b[0;34m)\u001b[0m\u001b[0;34m\u001b[0m\u001b[0;34m\u001b[0m\u001b[0m\n\u001b[0m\u001b[1;32m     48\u001b[0m \u001b[0;34m\u001b[0m\u001b[0m\n\u001b[1;32m     49\u001b[0m         \u001b[0;31m# Dispatch to specialized methods.\u001b[0m\u001b[0;34m\u001b[0m\u001b[0;34m\u001b[0m\u001b[0m\n",
      "\u001b[0;32m/usr/local/lib/python3.10/dist-packages/scipy/sparse/_index.py\u001b[0m in \u001b[0;36m_validate_indices\u001b[0;34m(self, key)\u001b[0m\n\u001b[1;32m    148\u001b[0m     \u001b[0;32mdef\u001b[0m \u001b[0m_validate_indices\u001b[0m\u001b[0;34m(\u001b[0m\u001b[0mself\u001b[0m\u001b[0;34m,\u001b[0m \u001b[0mkey\u001b[0m\u001b[0;34m)\u001b[0m\u001b[0;34m:\u001b[0m\u001b[0;34m\u001b[0m\u001b[0;34m\u001b[0m\u001b[0m\n\u001b[1;32m    149\u001b[0m         \u001b[0mM\u001b[0m\u001b[0;34m,\u001b[0m \u001b[0mN\u001b[0m \u001b[0;34m=\u001b[0m \u001b[0mself\u001b[0m\u001b[0;34m.\u001b[0m\u001b[0mshape\u001b[0m\u001b[0;34m\u001b[0m\u001b[0;34m\u001b[0m\u001b[0m\n\u001b[0;32m--> 150\u001b[0;31m         \u001b[0mrow\u001b[0m\u001b[0;34m,\u001b[0m \u001b[0mcol\u001b[0m \u001b[0;34m=\u001b[0m \u001b[0m_unpack_index\u001b[0m\u001b[0;34m(\u001b[0m\u001b[0mkey\u001b[0m\u001b[0;34m)\u001b[0m\u001b[0;34m\u001b[0m\u001b[0;34m\u001b[0m\u001b[0m\n\u001b[0m\u001b[1;32m    151\u001b[0m \u001b[0;34m\u001b[0m\u001b[0m\n\u001b[1;32m    152\u001b[0m         \u001b[0;32mif\u001b[0m \u001b[0misintlike\u001b[0m\u001b[0;34m(\u001b[0m\u001b[0mrow\u001b[0m\u001b[0;34m)\u001b[0m\u001b[0;34m:\u001b[0m\u001b[0;34m\u001b[0m\u001b[0;34m\u001b[0m\u001b[0m\n",
      "\u001b[0;32m/usr/local/lib/python3.10/dist-packages/scipy/sparse/_index.py\u001b[0m in \u001b[0;36m_unpack_index\u001b[0;34m(index)\u001b[0m\n\u001b[1;32m    270\u001b[0m     \"\"\"\n\u001b[1;32m    271\u001b[0m     \u001b[0;31m# First, check if indexing with single boolean matrix.\u001b[0m\u001b[0;34m\u001b[0m\u001b[0;34m\u001b[0m\u001b[0m\n\u001b[0;32m--> 272\u001b[0;31m     \u001b[0;32mfrom\u001b[0m \u001b[0;34m.\u001b[0m\u001b[0m_base\u001b[0m \u001b[0;32mimport\u001b[0m \u001b[0mspmatrix\u001b[0m\u001b[0;34m,\u001b[0m \u001b[0misspmatrix\u001b[0m\u001b[0;34m\u001b[0m\u001b[0;34m\u001b[0m\u001b[0m\n\u001b[0m\u001b[1;32m    273\u001b[0m     if (isinstance(index, (spmatrix, np.ndarray)) and\n\u001b[1;32m    274\u001b[0m             index.ndim == 2 and index.dtype.kind == 'b'):\n",
      "\u001b[0;32m/usr/lib/python3.10/importlib/_bootstrap.py\u001b[0m in \u001b[0;36mparent\u001b[0;34m(self)\u001b[0m\n",
      "\u001b[0;31mKeyboardInterrupt\u001b[0m: "
     ]
    }
   ],
   "source": [
    "vectores(df['origenes'])"
   ]
  },
  {
   "cell_type": "markdown",
   "metadata": {
    "id": "WQ8Tq_J-H-Yr"
   },
   "source": [
    "Al momento de analizar los vectores no se enucentra una tendencia rrecurrente\n",
    "## Analisis de convergencia de temas"
   ]
  },
  {
   "cell_type": "code",
   "execution_count": 57,
   "metadata": {
    "colab": {
     "base_uri": "https://localhost:8080/"
    },
    "id": "Z7xLNm6dKZqM",
    "outputId": "9212f5b3-c59b-4ded-a293-72f56fa9c02a"
   },
   "outputs": [
    {
     "name": "stderr",
     "output_type": "stream",
     "text": [
      "/usr/local/lib/python3.10/dist-packages/ipykernel/ipkernel.py:283: DeprecationWarning: `should_run_async` will not call `transform_cell` automatically in the future. Please pass the result to `transformed_cell` argument and any exception that happen during thetransform in `preprocessing_exc_tuple` in IPython 7.17 and above.\n",
      "  and should_run_async(code)\n"
     ]
    }
   ],
   "source": [
    "df['limpieza2']=df['limpieza'].apply(lambda x : x.split())\n",
    "df['origenes2']=df['origenes'].apply(lambda x : x.split())"
   ]
  },
  {
   "cell_type": "code",
   "execution_count": 52,
   "metadata": {
    "colab": {
     "base_uri": "https://localhost:8080/"
    },
    "id": "JX5VwHe6H9Bi",
    "outputId": "8f94c9de-eee6-4e52-c26f-9ff19a337444"
   },
   "outputs": [
    {
     "name": "stderr",
     "output_type": "stream",
     "text": [
      "/usr/local/lib/python3.10/dist-packages/ipykernel/ipkernel.py:283: DeprecationWarning: `should_run_async` will not call `transform_cell` automatically in the future. Please pass the result to `transformed_cell` argument and any exception that happen during thetransform in `preprocessing_exc_tuple` in IPython 7.17 and above.\n",
      "  and should_run_async(code)\n"
     ]
    }
   ],
   "source": [
    "# Filtrar palabras muy frecuentes y poco frecuentes\n",
    "dictionary = Dictionary(df['limpieza2'].values)\n",
    "dictionary\n",
    "dictionary.filter_extremes(no_below=5, no_above=0.5)\n",
    "corpus = [dictionary.doc2bow(text) for text in df['limpieza2'].values]\n",
    "# Train the topic model\n",
    "model = LdaModel(corpus=corpus, id2word=dictionary, num_topics=7, passes=100)\n",
    "model.print_topics(7)"
   ]
  },
  {
   "cell_type": "code",
   "execution_count": 58,
   "metadata": {
    "colab": {
     "base_uri": "https://localhost:8080/"
    },
    "id": "XBkqWAwyLado",
    "outputId": "52b935fc-5872-490c-af6f-d5c60486c003"
   },
   "outputs": [
    {
     "name": "stderr",
     "output_type": "stream",
     "text": [
      "/usr/local/lib/python3.10/dist-packages/ipykernel/ipkernel.py:283: DeprecationWarning: `should_run_async` will not call `transform_cell` automatically in the future. Please pass the result to `transformed_cell` argument and any exception that happen during thetransform in `preprocessing_exc_tuple` in IPython 7.17 and above.\n",
      "  and should_run_async(code)\n"
     ]
    },
    {
     "data": {
      "text/plain": [
       "[(0,\n",
       "  '0.051*\"action\" + 0.037*\"adventur\" + 0.026*\"thriller\" + 0.023*\"scifi\" + 0.012*\"drama\" + 0.011*\"comedi\" + 0.011*\"must\" + 0.011*\"new\" + 0.010*\"horror\" + 0.009*\"team\"'),\n",
       " (1,\n",
       "  '0.038*\"action\" + 0.025*\"thriller\" + 0.022*\"horror\" + 0.017*\"crime\" + 0.013*\"must\" + 0.013*\"scifi\" + 0.013*\"mysteri\" + 0.012*\"comedi\" + 0.011*\"adventur\" + 0.010*\"friend\"'),\n",
       " (2,\n",
       "  '0.049*\"adventur\" + 0.037*\"comedi\" + 0.029*\"fantasi\" + 0.028*\"famili\" + 0.024*\"drama\" + 0.015*\"anim\" + 0.015*\"action\" + 0.013*\"romanc\" + 0.011*\"world\" + 0.011*\"young\"'),\n",
       " (3,\n",
       "  '0.050*\"drama\" + 0.028*\"war\" + 0.027*\"action\" + 0.017*\"crime\" + 0.015*\"young\" + 0.014*\"music\" + 0.012*\"world\" + 0.012*\"histori\" + 0.010*\"thriller\" + 0.010*\"biographi\"'),\n",
       " (4,\n",
       "  '0.062*\"drama\" + 0.033*\"comedi\" + 0.024*\"romanc\" + 0.015*\"friend\" + 0.011*\"mother\" + 0.011*\"life\" + 0.010*\"biographi\" + 0.010*\"horror\" + 0.010*\"girl\" + 0.010*\"live\"'),\n",
       " (5,\n",
       "  '0.053*\"drama\" + 0.030*\"crime\" + 0.026*\"comedi\" + 0.020*\"thriller\" + 0.020*\"mysteri\" + 0.014*\"romanc\" + 0.012*\"new\" + 0.012*\"school\" + 0.012*\"horror\" + 0.011*\"becom\"'),\n",
       " (6,\n",
       "  '0.060*\"action\" + 0.045*\"adventur\" + 0.028*\"scifi\" + 0.016*\"forc\" + 0.015*\"comedi\" + 0.013*\"earth\" + 0.012*\"thriller\" + 0.011*\"mysteri\" + 0.011*\"must\" + 0.010*\"battl\"')]"
      ]
     },
     "execution_count": 58,
     "metadata": {},
     "output_type": "execute_result"
    }
   ],
   "source": [
    "# Filtrar palabras muy frecuentes y poco frecuentes\n",
    "dictionary = Dictionary(df['origenes2'].values)\n",
    "dictionary\n",
    "dictionary.filter_extremes(no_below=5, no_above=0.5)\n",
    "corpus = [dictionary.doc2bow(text) for text in df['origenes2'].values]\n",
    "# Train the topic model\n",
    "model = LdaModel(corpus=corpus, id2word=dictionary, num_topics=7, passes=100)\n",
    "model.print_topics(7)"
   ]
  },
  {
   "cell_type": "markdown",
   "metadata": {
    "id": "9c2q51CKMlfc"
   },
   "source": [
    "## Modelamiento TF-IDF"
   ]
  },
  {
   "cell_type": "markdown",
   "metadata": {
    "id": "7520JZe3M3Ej"
   },
   "source": [
    "modelo de similitud de textos por TF-IDF"
   ]
  },
  {
   "cell_type": "markdown",
   "metadata": {
    "id": "Lo1O5t7IXh8Z"
   },
   "source": [
    "### Generacion del modelo"
   ]
  },
  {
   "cell_type": "code",
   "execution_count": 81,
   "metadata": {
    "colab": {
     "base_uri": "https://localhost:8080/"
    },
    "id": "LfBTtstsM1bO",
    "outputId": "7eadd5a1-c914-4b8c-e03f-a105597d5329"
   },
   "outputs": [
    {
     "name": "stderr",
     "output_type": "stream",
     "text": [
      "/usr/local/lib/python3.10/dist-packages/ipykernel/ipkernel.py:283: DeprecationWarning: `should_run_async` will not call `transform_cell` automatically in the future. Please pass the result to `transformed_cell` argument and any exception that happen during thetransform in `preprocessing_exc_tuple` in IPython 7.17 and above.\n",
      "  and should_run_async(code)\n"
     ]
    }
   ],
   "source": [
    "from sklearn.feature_extraction.text import TfidfVectorizer\n",
    "from sklearn.metrics.pairwise import cosine_similarity\n",
    "\n",
    "class ModeloSimilitudTextos:\n",
    "    def __init__(self):\n",
    "        self.vectorizer = TfidfVectorizer()\n",
    "        self.X_train = None\n",
    "        self.y_train = None\n",
    "\n",
    "    def entrenar_modelo(self, corpus, etiquetas):\n",
    "        self.X_train = self.vectorizer.fit_transform(corpus)\n",
    "        self.y_train = etiquetas\n",
    "\n",
    "    def encontrar_similitud(self, texto):\n",
    "        vector_texto = self.vectorizer.transform([texto])\n",
    "        similitudes = cosine_similarity(vector_texto, self.X_train)\n",
    "        indice_max_similitud = similitudes.argmax()\n",
    "        resultado_aproximado = self.y_train[indice_max_similitud]\n",
    "        return resultado_aproximado"
   ]
  },
  {
   "cell_type": "code",
   "execution_count": 86,
   "metadata": {
    "colab": {
     "base_uri": "https://localhost:8080/"
    },
    "id": "Q8mglzLUSQnc",
    "outputId": "70a1995d-72c6-4b22-cb19-e9b64180d3de"
   },
   "outputs": [
    {
     "name": "stderr",
     "output_type": "stream",
     "text": [
      "/usr/local/lib/python3.10/dist-packages/ipykernel/ipkernel.py:283: DeprecationWarning: `should_run_async` will not call `transform_cell` automatically in the future. Please pass the result to `transformed_cell` argument and any exception that happen during thetransform in `preprocessing_exc_tuple` in IPython 7.17 and above.\n",
      "  and should_run_async(code)\n"
     ]
    }
   ],
   "source": [
    "modelo = ModeloSimilitudTextos()\n",
    "modelo.entrenar_modelo(df['limpieza'], df['Titulo'])"
   ]
  },
  {
   "cell_type": "markdown",
   "metadata": {
    "id": "PNu_QurWThVT"
   },
   "source": [
    "Funcion para generar el modelo"
   ]
  },
  {
   "cell_type": "code",
   "execution_count": 109,
   "metadata": {
    "colab": {
     "base_uri": "https://localhost:8080/"
    },
    "id": "JNug5dToTlJu",
    "outputId": "50a4f8c8-45a4-41cb-8fa6-e8997602ab6f"
   },
   "outputs": [
    {
     "name": "stderr",
     "output_type": "stream",
     "text": [
      "/usr/local/lib/python3.10/dist-packages/ipykernel/ipkernel.py:283: DeprecationWarning: `should_run_async` will not call `transform_cell` automatically in the future. Please pass the result to `transformed_cell` argument and any exception that happen during thetransform in `preprocessing_exc_tuple` in IPython 7.17 and above.\n",
      "  and should_run_async(code)\n"
     ]
    }
   ],
   "source": [
    "\n",
    "def entontar_titulo(texto):\n",
    "    translator = Translator(to_lang=\"en\")\n",
    "    translated_text = translator.translate(texto)\n",
    "    print(f'texto traducido: {translated_text}')\n",
    "    resultado_aproximado = modelo.encontrar_similitud(translated_text)\n",
    "    print(\"entro final\")\n",
    "    return resultado_aproximado"
   ]
  },
  {
   "cell_type": "markdown",
   "metadata": {
    "id": "_ggfwR5lM2f5"
   },
   "source": [
    "### Evaluacion del modelo"
   ]
  },
  {
   "cell_type": "code",
   "execution_count": 110,
   "metadata": {
    "colab": {
     "base_uri": "https://localhost:8080/",
     "height": 124
    },
    "id": "sWTbAGcxMmsr",
    "outputId": "c7e7b0de-1190-4caf-bf8a-7652bbd5fe1f"
   },
   "outputs": [
    {
     "name": "stdout",
     "output_type": "stream",
     "text": [
      "texto traducido: Gamoray Peter Quill tienen que defender el universo\n",
      "entro final\n"
     ]
    },
    {
     "name": "stderr",
     "output_type": "stream",
     "text": [
      "/usr/local/lib/python3.10/dist-packages/ipykernel/ipkernel.py:283: DeprecationWarning: `should_run_async` will not call `transform_cell` automatically in the future. Please pass the result to `transformed_cell` argument and any exception that happen during thetransform in `preprocessing_exc_tuple` in IPython 7.17 and above.\n",
      "  and should_run_async(code)\n"
     ]
    },
    {
     "data": {
      "application/vnd.google.colaboratory.intrinsic+json": {
       "type": "string"
      },
      "text/plain": [
       "'Guardians of the Galaxy Vol. 3'"
      ]
     },
     "execution_count": 110,
     "metadata": {},
     "output_type": "execute_result"
    }
   ],
   "source": [
    "entontar_titulo(\"Gamoray Peter Quill tienen que defender el universo\")"
   ]
  },
  {
   "cell_type": "code",
   "execution_count": 114,
   "metadata": {
    "colab": {
     "base_uri": "https://localhost:8080/",
     "height": 124
    },
    "id": "xGeGgiE6XDle",
    "outputId": "3c8d33a3-2ff4-4a4e-89b5-6eef7dacee5b"
   },
   "outputs": [
    {
     "name": "stdout",
     "output_type": "stream",
     "text": [
      "texto traducido: la historia de Indiana Jones \n",
      "entro final\n"
     ]
    },
    {
     "name": "stderr",
     "output_type": "stream",
     "text": [
      "/usr/local/lib/python3.10/dist-packages/ipykernel/ipkernel.py:283: DeprecationWarning: `should_run_async` will not call `transform_cell` automatically in the future. Please pass the result to `transformed_cell` argument and any exception that happen during thetransform in `preprocessing_exc_tuple` in IPython 7.17 and above.\n",
      "  and should_run_async(code)\n"
     ]
    },
    {
     "data": {
      "application/vnd.google.colaboratory.intrinsic+json": {
       "type": "string"
      },
      "text/plain": [
       "'Indiana Jones and the Dial of Destiny'"
      ]
     },
     "execution_count": 114,
     "metadata": {},
     "output_type": "execute_result"
    }
   ],
   "source": [
    "entontar_titulo(\"la historia de Indiana Jones \")"
   ]
  },
  {
   "cell_type": "code",
   "execution_count": 87,
   "metadata": {
    "colab": {
     "base_uri": "https://localhost:8080/",
     "height": 90
    },
    "id": "kbL7PKKLMmg6",
    "outputId": "90ca2625-749f-44b7-f790-0732e6d34d3f"
   },
   "outputs": [
    {
     "name": "stderr",
     "output_type": "stream",
     "text": [
      "/usr/local/lib/python3.10/dist-packages/ipykernel/ipkernel.py:283: DeprecationWarning: `should_run_async` will not call `transform_cell` automatically in the future. Please pass the result to `transformed_cell` argument and any exception that happen during thetransform in `preprocessing_exc_tuple` in IPython 7.17 and above.\n",
      "  and should_run_async(code)\n"
     ]
    },
    {
     "data": {
      "application/vnd.google.colaboratory.intrinsic+json": {
       "type": "string"
      },
      "text/plain": [
       "'Guardians of the Galaxy Vol. 3'"
      ]
     },
     "execution_count": 87,
     "metadata": {},
     "output_type": "execute_result"
    }
   ],
   "source": [
    "df['Titulo'][2]"
   ]
  },
  {
   "cell_type": "code",
   "execution_count": 113,
   "metadata": {
    "colab": {
     "base_uri": "https://localhost:8080/",
     "height": 90
    },
    "id": "4ulDjZA9MmKT",
    "outputId": "0d4266f0-6b6d-481b-b80c-fc52226a7bcb"
   },
   "outputs": [
    {
     "name": "stderr",
     "output_type": "stream",
     "text": [
      "/usr/local/lib/python3.10/dist-packages/ipykernel/ipkernel.py:283: DeprecationWarning: `should_run_async` will not call `transform_cell` automatically in the future. Please pass the result to `transformed_cell` argument and any exception that happen during thetransform in `preprocessing_exc_tuple` in IPython 7.17 and above.\n",
      "  and should_run_async(code)\n"
     ]
    },
    {
     "data": {
      "application/vnd.google.colaboratory.intrinsic+json": {
       "type": "string"
      },
      "text/plain": [
       "'Action Adventure             Archaeologist Indiana Jones races against time to retrieve a legendary artifact that can change the course of history'"
      ]
     },
     "execution_count": 113,
     "metadata": {},
     "output_type": "execute_result"
    }
   ],
   "source": [
    "df['Titulo'][12]\n",
    "df['Descripcion'][12]"
   ]
  },
  {
   "cell_type": "code",
   "execution_count": null,
   "metadata": {
    "id": "mljblxe0Yx5v"
   },
   "outputs": [],
   "source": []
  },
  {
   "cell_type": "markdown",
   "metadata": {
    "id": "4krws5OmYzGl"
   },
   "source": [
    "## Modelamiento distancia de Levenshtein"
   ]
  },
  {
   "cell_type": "markdown",
   "metadata": {
    "id": "QiHSvaN1Y2ma"
   },
   "source": [
    "Creacion del modelo"
   ]
  },
  {
   "cell_type": "code",
   "execution_count": 129,
   "metadata": {
    "colab": {
     "base_uri": "https://localhost:8080/"
    },
    "id": "Jkk-X9_BY2LN",
    "outputId": "d88e1a61-3e9d-4d34-b7fd-0e2b43884eca"
   },
   "outputs": [
    {
     "name": "stderr",
     "output_type": "stream",
     "text": [
      "/usr/local/lib/python3.10/dist-packages/ipykernel/ipkernel.py:283: DeprecationWarning: `should_run_async` will not call `transform_cell` automatically in the future. Please pass the result to `transformed_cell` argument and any exception that happen during thetransform in `preprocessing_exc_tuple` in IPython 7.17 and above.\n",
      "  and should_run_async(code)\n"
     ]
    }
   ],
   "source": [
    "class SimilarityFinder:\n",
    "    def __init__(self, dataframe):\n",
    "        self.dataframe = dataframe\n",
    "\n",
    "    def find_most_similar_text(self, text):\n",
    "        similarities = []\n",
    "        for index, row in self.dataframe.iterrows():\n",
    "            similarity = fuzz.ratio(text, row['limpieza'])\n",
    "            similarities.append((index, similarity))\n",
    "        similarities.sort(key=lambda x: x[1], reverse=True)\n",
    "        most_similar_index = similarities[0][0]\n",
    "        most_similar_text = self.dataframe.loc[most_similar_index, 'Titulo']\n",
    "        return most_similar_text"
   ]
  },
  {
   "cell_type": "markdown",
   "metadata": {
    "id": "EoSN3mzVa5W3"
   },
   "source": [
    "Entrenamiento del modelo"
   ]
  },
  {
   "cell_type": "code",
   "execution_count": 130,
   "metadata": {
    "colab": {
     "base_uri": "https://localhost:8080/"
    },
    "id": "7nVX9p_YZT3b",
    "outputId": "6e971094-ae74-49be-9dfa-80d137a9546e"
   },
   "outputs": [
    {
     "name": "stderr",
     "output_type": "stream",
     "text": [
      "/usr/local/lib/python3.10/dist-packages/ipykernel/ipkernel.py:283: DeprecationWarning: `should_run_async` will not call `transform_cell` automatically in the future. Please pass the result to `transformed_cell` argument and any exception that happen during thetransform in `preprocessing_exc_tuple` in IPython 7.17 and above.\n",
      "  and should_run_async(code)\n"
     ]
    },
    {
     "name": "stdout",
     "output_type": "stream",
     "text": [
      "Texto más similar: Saw X\n"
     ]
    }
   ],
   "source": [
    "similarity_finder = SimilarityFinder(df[['limpieza','Titulo']])"
   ]
  },
  {
   "cell_type": "code",
   "execution_count": 131,
   "metadata": {
    "colab": {
     "base_uri": "https://localhost:8080/"
    },
    "id": "bwZy_vSYZnYp",
    "outputId": "1a3fae2b-f536-44e3-9329-431079731c8c"
   },
   "outputs": [
    {
     "name": "stderr",
     "output_type": "stream",
     "text": [
      "/usr/local/lib/python3.10/dist-packages/ipykernel/ipkernel.py:283: DeprecationWarning: `should_run_async` will not call `transform_cell` automatically in the future. Please pass the result to `transformed_cell` argument and any exception that happen during thetransform in `preprocessing_exc_tuple` in IPython 7.17 and above.\n",
      "  and should_run_async(code)\n"
     ]
    }
   ],
   "source": [
    "def entontar_titulo2(texto):\n",
    "    translator = Translator(to_lang=\"en\")\n",
    "    translated_text = translator.translate(texto)\n",
    "    print(f'texto traducido: {translated_text}')\n",
    "    resultado_aproximado = similarity_finder.find_most_similar_text(translated_text)\n",
    "    print(\"entro final\")\n",
    "    return resultado_aproximado"
   ]
  },
  {
   "cell_type": "code",
   "execution_count": 132,
   "metadata": {
    "colab": {
     "base_uri": "https://localhost:8080/",
     "height": 124
    },
    "id": "6Bl-j1TaZV3k",
    "outputId": "7bbeb99f-ad7b-4d41-ecf2-ce637c8c084c"
   },
   "outputs": [
    {
     "name": "stderr",
     "output_type": "stream",
     "text": [
      "/usr/local/lib/python3.10/dist-packages/ipykernel/ipkernel.py:283: DeprecationWarning: `should_run_async` will not call `transform_cell` automatically in the future. Please pass the result to `transformed_cell` argument and any exception that happen during thetransform in `preprocessing_exc_tuple` in IPython 7.17 and above.\n",
      "  and should_run_async(code)\n"
     ]
    },
    {
     "name": "stdout",
     "output_type": "stream",
     "text": [
      "texto traducido: Gamoray Peter Quill tienen que defender el universo\n",
      "entro final\n"
     ]
    },
    {
     "data": {
      "application/vnd.google.colaboratory.intrinsic+json": {
       "type": "string"
      },
      "text/plain": [
       "'Saw X'"
      ]
     },
     "execution_count": 132,
     "metadata": {},
     "output_type": "execute_result"
    }
   ],
   "source": [
    "entontar_titulo2(\"Gamoray Peter Quill tienen que defender el universo\")"
   ]
  },
  {
   "cell_type": "code",
   "execution_count": 133,
   "metadata": {
    "colab": {
     "base_uri": "https://localhost:8080/",
     "height": 124
    },
    "id": "0cujfGX8hvIT",
    "outputId": "0021a12b-835e-42ed-ef69-8b6f30431557"
   },
   "outputs": [
    {
     "name": "stderr",
     "output_type": "stream",
     "text": [
      "/usr/local/lib/python3.10/dist-packages/ipykernel/ipkernel.py:283: DeprecationWarning: `should_run_async` will not call `transform_cell` automatically in the future. Please pass the result to `transformed_cell` argument and any exception that happen during thetransform in `preprocessing_exc_tuple` in IPython 7.17 and above.\n",
      "  and should_run_async(code)\n"
     ]
    },
    {
     "name": "stdout",
     "output_type": "stream",
     "text": [
      "texto traducido: la historia de Indiana Jones \n",
      "entro final\n"
     ]
    },
    {
     "data": {
      "application/vnd.google.colaboratory.intrinsic+json": {
       "type": "string"
      },
      "text/plain": [
       "'Mortal Kombat 2'"
      ]
     },
     "execution_count": 133,
     "metadata": {},
     "output_type": "execute_result"
    }
   ],
   "source": [
    "entontar_titulo2(\"la historia de Indiana Jones \")"
   ]
  }
 ],
 "metadata": {
  "colab": {
   "collapsed_sections": [
    "oxqSiZ-p-uEq",
    "jMvpRCmN-Y1o",
    "5ipbjQNDFl6M",
    "WQ8Tq_J-H-Yr",
    "Lo1O5t7IXh8Z",
    "_ggfwR5lM2f5",
    "4krws5OmYzGl"
   ],
   "provenance": []
  },
  "kernelspec": {
   "display_name": "Python 3",
   "language": "python",
   "name": "python3"
  },
  "language_info": {
   "codemirror_mode": {
    "name": "ipython",
    "version": 3
   },
   "file_extension": ".py",
   "mimetype": "text/x-python",
   "name": "python",
   "nbconvert_exporter": "python",
   "pygments_lexer": "ipython3",
   "version": "3.8.3"
  }
 },
 "nbformat": 4,
 "nbformat_minor": 1
}
