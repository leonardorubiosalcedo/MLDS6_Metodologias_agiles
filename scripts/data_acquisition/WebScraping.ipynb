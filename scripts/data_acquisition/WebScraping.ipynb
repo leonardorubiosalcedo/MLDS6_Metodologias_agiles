{
  "nbformat": 4,
  "nbformat_minor": 0,
  "metadata": {
    "colab": {
      "provenance": []
    },
    "kernelspec": {
      "name": "python3",
      "display_name": "Python 3"
    },
    "language_info": {
      "name": "python"
    }
  },
  "cells": [
    {
      "cell_type": "code",
      "source": [
        "!pip uninstall -y googletrans\n",
        "!pip install googletrans==4.0.0-rc1\n",
        "!pip install translate\n",
        "!pip install py-googletrans\n"
      ],
      "metadata": {
        "colab": {
          "base_uri": "https://localhost:8080/"
        },
        "id": "GL3eKt9Gve7Q",
        "outputId": "893a4e4b-0cc4-4cd6-d486-1ed164fca21b"
      },
      "execution_count": 1,
      "outputs": [
        {
          "output_type": "stream",
          "name": "stdout",
          "text": [
            "\u001b[33mWARNING: Skipping googletrans as it is not installed.\u001b[0m\u001b[33m\n",
            "\u001b[0mLooking in indexes: https://pypi.org/simple, https://us-python.pkg.dev/colab-wheels/public/simple/\n",
            "Collecting googletrans==4.0.0-rc1\n",
            "  Downloading googletrans-4.0.0rc1.tar.gz (20 kB)\n",
            "  Preparing metadata (setup.py) ... \u001b[?25l\u001b[?25hdone\n",
            "Collecting httpx==0.13.3 (from googletrans==4.0.0-rc1)\n",
            "  Downloading httpx-0.13.3-py3-none-any.whl (55 kB)\n",
            "\u001b[2K     \u001b[90m━━━━━━━━━━━━━━━━━━━━━━━━━━━━━━━━━━━━━━━━\u001b[0m \u001b[32m55.1/55.1 kB\u001b[0m \u001b[31m4.5 MB/s\u001b[0m eta \u001b[36m0:00:00\u001b[0m\n",
            "\u001b[?25hRequirement already satisfied: certifi in /usr/local/lib/python3.10/dist-packages (from httpx==0.13.3->googletrans==4.0.0-rc1) (2022.12.7)\n",
            "Collecting hstspreload (from httpx==0.13.3->googletrans==4.0.0-rc1)\n",
            "  Downloading hstspreload-2023.1.1-py3-none-any.whl (1.5 MB)\n",
            "\u001b[2K     \u001b[90m━━━━━━━━━━━━━━━━━━━━━━━━━━━━━━━━━━━━━━━━\u001b[0m \u001b[32m1.5/1.5 MB\u001b[0m \u001b[31m43.7 MB/s\u001b[0m eta \u001b[36m0:00:00\u001b[0m\n",
            "\u001b[?25hRequirement already satisfied: sniffio in /usr/local/lib/python3.10/dist-packages (from httpx==0.13.3->googletrans==4.0.0-rc1) (1.3.0)\n",
            "Collecting chardet==3.* (from httpx==0.13.3->googletrans==4.0.0-rc1)\n",
            "  Downloading chardet-3.0.4-py2.py3-none-any.whl (133 kB)\n",
            "\u001b[2K     \u001b[90m━━━━━━━━━━━━━━━━━━━━━━━━━━━━━━━━━━━━━━\u001b[0m \u001b[32m133.4/133.4 kB\u001b[0m \u001b[31m11.5 MB/s\u001b[0m eta \u001b[36m0:00:00\u001b[0m\n",
            "\u001b[?25hCollecting idna==2.* (from httpx==0.13.3->googletrans==4.0.0-rc1)\n",
            "  Downloading idna-2.10-py2.py3-none-any.whl (58 kB)\n",
            "\u001b[2K     \u001b[90m━━━━━━━━━━━━━━━━━━━━━━━━━━━━━━━━━━━━━━━━\u001b[0m \u001b[32m58.8/58.8 kB\u001b[0m \u001b[31m6.1 MB/s\u001b[0m eta \u001b[36m0:00:00\u001b[0m\n",
            "\u001b[?25hCollecting rfc3986<2,>=1.3 (from httpx==0.13.3->googletrans==4.0.0-rc1)\n",
            "  Downloading rfc3986-1.5.0-py2.py3-none-any.whl (31 kB)\n",
            "Collecting httpcore==0.9.* (from httpx==0.13.3->googletrans==4.0.0-rc1)\n",
            "  Downloading httpcore-0.9.1-py3-none-any.whl (42 kB)\n",
            "\u001b[2K     \u001b[90m━━━━━━━━━━━━━━━━━━━━━━━━━━━━━━━━━━━━━━━━\u001b[0m \u001b[32m42.6/42.6 kB\u001b[0m \u001b[31m4.2 MB/s\u001b[0m eta \u001b[36m0:00:00\u001b[0m\n",
            "\u001b[?25hCollecting h11<0.10,>=0.8 (from httpcore==0.9.*->httpx==0.13.3->googletrans==4.0.0-rc1)\n",
            "  Downloading h11-0.9.0-py2.py3-none-any.whl (53 kB)\n",
            "\u001b[2K     \u001b[90m━━━━━━━━━━━━━━━━━━━━━━━━━━━━━━━━━━━━━━━━\u001b[0m \u001b[32m53.6/53.6 kB\u001b[0m \u001b[31m4.2 MB/s\u001b[0m eta \u001b[36m0:00:00\u001b[0m\n",
            "\u001b[?25hCollecting h2==3.* (from httpcore==0.9.*->httpx==0.13.3->googletrans==4.0.0-rc1)\n",
            "  Downloading h2-3.2.0-py2.py3-none-any.whl (65 kB)\n",
            "\u001b[2K     \u001b[90m━━━━━━━━━━━━━━━━━━━━━━━━━━━━━━━━━━━━━━━━\u001b[0m \u001b[32m65.0/65.0 kB\u001b[0m \u001b[31m7.2 MB/s\u001b[0m eta \u001b[36m0:00:00\u001b[0m\n",
            "\u001b[?25hCollecting hyperframe<6,>=5.2.0 (from h2==3.*->httpcore==0.9.*->httpx==0.13.3->googletrans==4.0.0-rc1)\n",
            "  Downloading hyperframe-5.2.0-py2.py3-none-any.whl (12 kB)\n",
            "Collecting hpack<4,>=3.0 (from h2==3.*->httpcore==0.9.*->httpx==0.13.3->googletrans==4.0.0-rc1)\n",
            "  Downloading hpack-3.0.0-py2.py3-none-any.whl (38 kB)\n",
            "Building wheels for collected packages: googletrans\n",
            "  Building wheel for googletrans (setup.py) ... \u001b[?25l\u001b[?25hdone\n",
            "  Created wheel for googletrans: filename=googletrans-4.0.0rc1-py3-none-any.whl size=17397 sha256=f98ad4beb4d6b9e6ddb583b111074c863fc8143199264dae7827105aa8b6ac27\n",
            "  Stored in directory: /root/.cache/pip/wheels/c0/59/9f/7372f0cf70160fe61b528532e1a7c8498c4becd6bcffb022de\n",
            "Successfully built googletrans\n",
            "Installing collected packages: rfc3986, hyperframe, hpack, h11, chardet, idna, hstspreload, h2, httpcore, httpx, googletrans\n",
            "  Attempting uninstall: chardet\n",
            "    Found existing installation: chardet 4.0.0\n",
            "    Uninstalling chardet-4.0.0:\n",
            "      Successfully uninstalled chardet-4.0.0\n",
            "  Attempting uninstall: idna\n",
            "    Found existing installation: idna 3.4\n",
            "    Uninstalling idna-3.4:\n",
            "      Successfully uninstalled idna-3.4\n",
            "Successfully installed chardet-3.0.4 googletrans-4.0.0rc1 h11-0.9.0 h2-3.2.0 hpack-3.0.0 hstspreload-2023.1.1 httpcore-0.9.1 httpx-0.13.3 hyperframe-5.2.0 idna-2.10 rfc3986-1.5.0\n",
            "Looking in indexes: https://pypi.org/simple, https://us-python.pkg.dev/colab-wheels/public/simple/\n",
            "Collecting translate\n",
            "  Downloading translate-3.6.1-py2.py3-none-any.whl (12 kB)\n",
            "Requirement already satisfied: click in /usr/local/lib/python3.10/dist-packages (from translate) (8.1.3)\n",
            "Requirement already satisfied: lxml in /usr/local/lib/python3.10/dist-packages (from translate) (4.9.2)\n",
            "Requirement already satisfied: requests in /usr/local/lib/python3.10/dist-packages (from translate) (2.27.1)\n",
            "Collecting libretranslatepy==2.1.1 (from translate)\n",
            "  Downloading libretranslatepy-2.1.1-py3-none-any.whl (3.2 kB)\n",
            "Requirement already satisfied: urllib3<1.27,>=1.21.1 in /usr/local/lib/python3.10/dist-packages (from requests->translate) (1.26.15)\n",
            "Requirement already satisfied: certifi>=2017.4.17 in /usr/local/lib/python3.10/dist-packages (from requests->translate) (2022.12.7)\n",
            "Requirement already satisfied: charset-normalizer~=2.0.0 in /usr/local/lib/python3.10/dist-packages (from requests->translate) (2.0.12)\n",
            "Requirement already satisfied: idna<4,>=2.5 in /usr/local/lib/python3.10/dist-packages (from requests->translate) (2.10)\n",
            "Installing collected packages: libretranslatepy, translate\n",
            "Successfully installed libretranslatepy-2.1.1 translate-3.6.1\n",
            "Looking in indexes: https://pypi.org/simple, https://us-python.pkg.dev/colab-wheels/public/simple/\n",
            "Collecting py-googletrans\n",
            "  Downloading py-googletrans-1.2.tar.gz (5.5 kB)\n",
            "  Preparing metadata (setup.py) ... \u001b[?25l\u001b[?25hdone\n",
            "Requirement already satisfied: requests in /usr/local/lib/python3.10/dist-packages (from py-googletrans) (2.27.1)\n",
            "Requirement already satisfied: future in /usr/local/lib/python3.10/dist-packages (from py-googletrans) (0.18.3)\n",
            "Requirement already satisfied: urllib3<1.27,>=1.21.1 in /usr/local/lib/python3.10/dist-packages (from requests->py-googletrans) (1.26.15)\n",
            "Requirement already satisfied: certifi>=2017.4.17 in /usr/local/lib/python3.10/dist-packages (from requests->py-googletrans) (2022.12.7)\n",
            "Requirement already satisfied: charset-normalizer~=2.0.0 in /usr/local/lib/python3.10/dist-packages (from requests->py-googletrans) (2.0.12)\n",
            "Requirement already satisfied: idna<4,>=2.5 in /usr/local/lib/python3.10/dist-packages (from requests->py-googletrans) (2.10)\n",
            "Building wheels for collected packages: py-googletrans\n",
            "  Building wheel for py-googletrans (setup.py) ... \u001b[?25l\u001b[?25hdone\n",
            "  Created wheel for py-googletrans: filename=py_googletrans-1.2-py3-none-any.whl size=6941 sha256=6b3311875f80333cfbe158d5bcfe6064a02de7ce9fa0223a15ddddcf547e28b9\n",
            "  Stored in directory: /root/.cache/pip/wheels/52/e7/0e/13d0f4cd380347fecddc76e0f640fafeaa48e9b3e4cda1e5a3\n",
            "Successfully built py-googletrans\n",
            "Installing collected packages: py-googletrans\n",
            "Successfully installed py-googletrans-1.2\n"
          ]
        }
      ]
    },
    {
      "cell_type": "code",
      "source": [
        "import requests\n",
        "from bs4 import BeautifulSoup\n",
        "import pandas as pd\n",
        "from google.cloud import translate\n",
        "import re \n",
        "from translate import Translator\n"
      ],
      "metadata": {
        "id": "o9KcIurVOO9j"
      },
      "execution_count": 10,
      "outputs": []
    },
    {
      "cell_type": "code",
      "source": [
        "def translate_text(text):\n",
        "    caracteres_especiales = r\"[^\\w\\d\\s]\"\n",
        "    # Utilizar la expresión regular para eliminar caracteres especiales\n",
        "    text = re.sub(caracteres_especiales, \"\", text)\n",
        "    if not isinstance(text, str):\n",
        "        text=text.toString();\n",
        "    translator = Translator(to_lang=\"es\")\n",
        "    translation = translator.translate(text)\n",
        "    print(f'traduccion: {translation}')\n",
        "    return translation"
      ],
      "metadata": {
        "id": "S7lnknifOTzu"
      },
      "execution_count": 4,
      "outputs": []
    },
    {
      "cell_type": "code",
      "source": [
        "def extraer_html(url):\n",
        "    nuevas_filas = []\n",
        "    response = requests.get(url)\n",
        "    contador=0\n",
        "    if response.status_code == 200:\n",
        "        # Utilizar BeautifulSoup para analizar el HTML de la página\n",
        "        soup = BeautifulSoup(response.content, 'html.parser')\n",
        "        # Buscar los elementos que contienen la información de las películas\n",
        "        movie_elements = soup.select('.lister-item-content')\n",
        "        for movie_element in movie_elements:\n",
        "            elemento= movie_element.select_one('a')\n",
        "            url = elemento['href']\n",
        "            text0= elemento.text\n",
        "            url_contenido=\"https://www.imdb.com\"+url\n",
        "            elemento0= movie_element.select_one('.genre')\n",
        "            elemento01=movie_element.select('p')\n",
        "            nuevas_filas.append({'Titulo': text0, 'URL': url,'Descripcion': elemento0.text+\" \"+elemento01[1].text})\n",
        "            contador=contador+1\n",
        "    else:\n",
        "        print('No se pudo acceder a la página correctamente.')\n",
        "    return nuevas_filas"
      ],
      "metadata": {
        "id": "-79IGLYtOW90"
      },
      "execution_count": 5,
      "outputs": []
    },
    {
      "cell_type": "code",
      "source": [
        "contador=1\n",
        "url_inicial=\"https://www.imdb.com/search/title/?title_type=feature&countries=us&languages=en&count=250\"\n",
        "url_temporal=url_inicial\n",
        "df = pd.DataFrame(columns=['Titulo', 'URL','Descripcion'])\n",
        "#while contador <= 119793:\n",
        "while contador <= 1501:\n",
        "    nuevas_filas=extraer_html(url_temporal)\n",
        "    url_temporal=url_inicial+\"&start=\"+str(contador)+\"&ref_=adv_nxt\"\n",
        "    contador=contador+250\n",
        "    df = df.append(nuevas_filas, ignore_index=True)\n",
        "    print(f'url{url_temporal}')"
      ],
      "metadata": {
        "colab": {
          "base_uri": "https://localhost:8080/"
        },
        "id": "K8_DGtVWOaO8",
        "outputId": "a99e3771-47f8-4b51-cd4f-03307509d2b3"
      },
      "execution_count": 6,
      "outputs": [
        {
          "output_type": "stream",
          "name": "stderr",
          "text": [
            "<ipython-input-6-2510deb94891>:10: FutureWarning: The frame.append method is deprecated and will be removed from pandas in a future version. Use pandas.concat instead.\n",
            "  df = df.append(nuevas_filas, ignore_index=True)\n"
          ]
        },
        {
          "output_type": "stream",
          "name": "stdout",
          "text": [
            "urlhttps://www.imdb.com/search/title/?title_type=feature&countries=us&languages=en&count=250&start=1&ref_=adv_nxt\n"
          ]
        },
        {
          "output_type": "stream",
          "name": "stderr",
          "text": [
            "<ipython-input-6-2510deb94891>:10: FutureWarning: The frame.append method is deprecated and will be removed from pandas in a future version. Use pandas.concat instead.\n",
            "  df = df.append(nuevas_filas, ignore_index=True)\n"
          ]
        },
        {
          "output_type": "stream",
          "name": "stdout",
          "text": [
            "urlhttps://www.imdb.com/search/title/?title_type=feature&countries=us&languages=en&count=250&start=251&ref_=adv_nxt\n"
          ]
        },
        {
          "output_type": "stream",
          "name": "stderr",
          "text": [
            "<ipython-input-6-2510deb94891>:10: FutureWarning: The frame.append method is deprecated and will be removed from pandas in a future version. Use pandas.concat instead.\n",
            "  df = df.append(nuevas_filas, ignore_index=True)\n"
          ]
        },
        {
          "output_type": "stream",
          "name": "stdout",
          "text": [
            "urlhttps://www.imdb.com/search/title/?title_type=feature&countries=us&languages=en&count=250&start=501&ref_=adv_nxt\n"
          ]
        },
        {
          "output_type": "stream",
          "name": "stderr",
          "text": [
            "<ipython-input-6-2510deb94891>:10: FutureWarning: The frame.append method is deprecated and will be removed from pandas in a future version. Use pandas.concat instead.\n",
            "  df = df.append(nuevas_filas, ignore_index=True)\n"
          ]
        },
        {
          "output_type": "stream",
          "name": "stdout",
          "text": [
            "urlhttps://www.imdb.com/search/title/?title_type=feature&countries=us&languages=en&count=250&start=751&ref_=adv_nxt\n"
          ]
        },
        {
          "output_type": "stream",
          "name": "stderr",
          "text": [
            "<ipython-input-6-2510deb94891>:10: FutureWarning: The frame.append method is deprecated and will be removed from pandas in a future version. Use pandas.concat instead.\n",
            "  df = df.append(nuevas_filas, ignore_index=True)\n"
          ]
        },
        {
          "output_type": "stream",
          "name": "stdout",
          "text": [
            "urlhttps://www.imdb.com/search/title/?title_type=feature&countries=us&languages=en&count=250&start=1001&ref_=adv_nxt\n"
          ]
        },
        {
          "output_type": "stream",
          "name": "stderr",
          "text": [
            "<ipython-input-6-2510deb94891>:10: FutureWarning: The frame.append method is deprecated and will be removed from pandas in a future version. Use pandas.concat instead.\n",
            "  df = df.append(nuevas_filas, ignore_index=True)\n"
          ]
        },
        {
          "output_type": "stream",
          "name": "stdout",
          "text": [
            "urlhttps://www.imdb.com/search/title/?title_type=feature&countries=us&languages=en&count=250&start=1251&ref_=adv_nxt\n",
            "urlhttps://www.imdb.com/search/title/?title_type=feature&countries=us&languages=en&count=250&start=1501&ref_=adv_nxt\n"
          ]
        },
        {
          "output_type": "stream",
          "name": "stderr",
          "text": [
            "<ipython-input-6-2510deb94891>:10: FutureWarning: The frame.append method is deprecated and will be removed from pandas in a future version. Use pandas.concat instead.\n",
            "  df = df.append(nuevas_filas, ignore_index=True)\n"
          ]
        }
      ]
    },
    {
      "cell_type": "code",
      "source": [
        "#df['Spanish']=df['Descripcion'].apply(lambda x: translate_text(x))"
      ],
      "metadata": {
        "id": "TkE9QkOXqTrE"
      },
      "execution_count": 13,
      "outputs": []
    },
    {
      "cell_type": "code",
      "source": [
        "df.to_csv('data_peliculas.csv', index=False)"
      ],
      "metadata": {
        "id": "XEp4mCB4w8pC"
      },
      "execution_count": 16,
      "outputs": []
    },
    {
      "cell_type": "code",
      "source": [
        "df"
      ],
      "metadata": {
        "colab": {
          "base_uri": "https://localhost:8080/",
          "height": 424
        },
        "id": "z0QvsWeS0-54",
        "outputId": "88ca789f-7ba9-4c8e-f8f6-e5a4fa175d6c"
      },
      "execution_count": 15,
      "outputs": [
        {
          "output_type": "execute_result",
          "data": {
            "text/plain": [
              "                                           Titulo                 URL  \\\n",
              "0                              The Little Mermaid   /title/tt5971474/   \n",
              "1                                          Fast X   /title/tt5433140/   \n",
              "2                  Guardians of the Galaxy Vol. 3   /title/tt6791350/   \n",
              "3                      Killers of the Flower Moon   /title/tt5537002/   \n",
              "4                            John Wick: Chapter 4  /title/tt10366206/   \n",
              "...                                           ...                 ...   \n",
              "1745                              Army of Thieves  /title/tt13024674/   \n",
              "1746                                        Borat   /title/tt0443453/   \n",
              "1747  Mighty Morphin Power Rangers: Once & Always  /title/tt23219684/   \n",
              "1748                      Sleeping with the Enemy   /title/tt0102945/   \n",
              "1749                                  Point Break   /title/tt2058673/   \n",
              "\n",
              "                                            Descripcion  \\\n",
              "0     \\nAdventure, Family, Fantasy             \\nA y...   \n",
              "1     \\nAction, Adventure, Crime             \\nDom T...   \n",
              "2     \\nAction, Adventure, Comedy             \\nStil...   \n",
              "3     \\nCrime, Drama, History             \\nMembers ...   \n",
              "4     \\nAction, Crime, Thriller             \\nJohn W...   \n",
              "...                                                 ...   \n",
              "1745  \\nAction, Comedy, Crime             \\nA preque...   \n",
              "1746  \\nComedy             \\nKazakh TV talking head ...   \n",
              "1747  \\nAction, Adventure, Family             \\nThe ...   \n",
              "1748  \\nDrama, Thriller             \\nA young woman ...   \n",
              "1749  \\nAction, Adventure, Crime             \\nA you...   \n",
              "\n",
              "                                                Spanish  \n",
              "0     Una \\njoven sirena hace un trato con una bruja...  \n",
              "1     Dom Toretto y su familia son atacados por el v...  \n",
              "2     Todavía recuperándose de la pérdida de Gamora,...  \n",
              "3     Los             \\nmiembros de la tribu Osage e...  \n",
              "4     El thriller de crimen y acción             \\nJ...  \n",
              "...                                                 ...  \n",
              "1745  MYMEMORY WARNING: YOU USED ALL AVAILABLE FREE ...  \n",
              "1746  MYMEMORY WARNING: YOU USED ALL AVAILABLE FREE ...  \n",
              "1747  MYMEMORY WARNING: YOU USED ALL AVAILABLE FREE ...  \n",
              "1748  MYMEMORY WARNING: YOU USED ALL AVAILABLE FREE ...  \n",
              "1749  MYMEMORY WARNING: YOU USED ALL AVAILABLE FREE ...  \n",
              "\n",
              "[1750 rows x 4 columns]"
            ],
            "text/html": [
              "\n",
              "  <div id=\"df-473cd46f-225d-4d1c-bc4d-350dd74ef545\">\n",
              "    <div class=\"colab-df-container\">\n",
              "      <div>\n",
              "<style scoped>\n",
              "    .dataframe tbody tr th:only-of-type {\n",
              "        vertical-align: middle;\n",
              "    }\n",
              "\n",
              "    .dataframe tbody tr th {\n",
              "        vertical-align: top;\n",
              "    }\n",
              "\n",
              "    .dataframe thead th {\n",
              "        text-align: right;\n",
              "    }\n",
              "</style>\n",
              "<table border=\"1\" class=\"dataframe\">\n",
              "  <thead>\n",
              "    <tr style=\"text-align: right;\">\n",
              "      <th></th>\n",
              "      <th>Titulo</th>\n",
              "      <th>URL</th>\n",
              "      <th>Descripcion</th>\n",
              "      <th>Spanish</th>\n",
              "    </tr>\n",
              "  </thead>\n",
              "  <tbody>\n",
              "    <tr>\n",
              "      <th>0</th>\n",
              "      <td>The Little Mermaid</td>\n",
              "      <td>/title/tt5971474/</td>\n",
              "      <td>\\nAdventure, Family, Fantasy             \\nA y...</td>\n",
              "      <td>Una \\njoven sirena hace un trato con una bruja...</td>\n",
              "    </tr>\n",
              "    <tr>\n",
              "      <th>1</th>\n",
              "      <td>Fast X</td>\n",
              "      <td>/title/tt5433140/</td>\n",
              "      <td>\\nAction, Adventure, Crime             \\nDom T...</td>\n",
              "      <td>Dom Toretto y su familia son atacados por el v...</td>\n",
              "    </tr>\n",
              "    <tr>\n",
              "      <th>2</th>\n",
              "      <td>Guardians of the Galaxy Vol. 3</td>\n",
              "      <td>/title/tt6791350/</td>\n",
              "      <td>\\nAction, Adventure, Comedy             \\nStil...</td>\n",
              "      <td>Todavía recuperándose de la pérdida de Gamora,...</td>\n",
              "    </tr>\n",
              "    <tr>\n",
              "      <th>3</th>\n",
              "      <td>Killers of the Flower Moon</td>\n",
              "      <td>/title/tt5537002/</td>\n",
              "      <td>\\nCrime, Drama, History             \\nMembers ...</td>\n",
              "      <td>Los             \\nmiembros de la tribu Osage e...</td>\n",
              "    </tr>\n",
              "    <tr>\n",
              "      <th>4</th>\n",
              "      <td>John Wick: Chapter 4</td>\n",
              "      <td>/title/tt10366206/</td>\n",
              "      <td>\\nAction, Crime, Thriller             \\nJohn W...</td>\n",
              "      <td>El thriller de crimen y acción             \\nJ...</td>\n",
              "    </tr>\n",
              "    <tr>\n",
              "      <th>...</th>\n",
              "      <td>...</td>\n",
              "      <td>...</td>\n",
              "      <td>...</td>\n",
              "      <td>...</td>\n",
              "    </tr>\n",
              "    <tr>\n",
              "      <th>1745</th>\n",
              "      <td>Army of Thieves</td>\n",
              "      <td>/title/tt13024674/</td>\n",
              "      <td>\\nAction, Comedy, Crime             \\nA preque...</td>\n",
              "      <td>MYMEMORY WARNING: YOU USED ALL AVAILABLE FREE ...</td>\n",
              "    </tr>\n",
              "    <tr>\n",
              "      <th>1746</th>\n",
              "      <td>Borat</td>\n",
              "      <td>/title/tt0443453/</td>\n",
              "      <td>\\nComedy             \\nKazakh TV talking head ...</td>\n",
              "      <td>MYMEMORY WARNING: YOU USED ALL AVAILABLE FREE ...</td>\n",
              "    </tr>\n",
              "    <tr>\n",
              "      <th>1747</th>\n",
              "      <td>Mighty Morphin Power Rangers: Once &amp; Always</td>\n",
              "      <td>/title/tt23219684/</td>\n",
              "      <td>\\nAction, Adventure, Family             \\nThe ...</td>\n",
              "      <td>MYMEMORY WARNING: YOU USED ALL AVAILABLE FREE ...</td>\n",
              "    </tr>\n",
              "    <tr>\n",
              "      <th>1748</th>\n",
              "      <td>Sleeping with the Enemy</td>\n",
              "      <td>/title/tt0102945/</td>\n",
              "      <td>\\nDrama, Thriller             \\nA young woman ...</td>\n",
              "      <td>MYMEMORY WARNING: YOU USED ALL AVAILABLE FREE ...</td>\n",
              "    </tr>\n",
              "    <tr>\n",
              "      <th>1749</th>\n",
              "      <td>Point Break</td>\n",
              "      <td>/title/tt2058673/</td>\n",
              "      <td>\\nAction, Adventure, Crime             \\nA you...</td>\n",
              "      <td>MYMEMORY WARNING: YOU USED ALL AVAILABLE FREE ...</td>\n",
              "    </tr>\n",
              "  </tbody>\n",
              "</table>\n",
              "<p>1750 rows × 4 columns</p>\n",
              "</div>\n",
              "      <button class=\"colab-df-convert\" onclick=\"convertToInteractive('df-473cd46f-225d-4d1c-bc4d-350dd74ef545')\"\n",
              "              title=\"Convert this dataframe to an interactive table.\"\n",
              "              style=\"display:none;\">\n",
              "        \n",
              "  <svg xmlns=\"http://www.w3.org/2000/svg\" height=\"24px\"viewBox=\"0 0 24 24\"\n",
              "       width=\"24px\">\n",
              "    <path d=\"M0 0h24v24H0V0z\" fill=\"none\"/>\n",
              "    <path d=\"M18.56 5.44l.94 2.06.94-2.06 2.06-.94-2.06-.94-.94-2.06-.94 2.06-2.06.94zm-11 1L8.5 8.5l.94-2.06 2.06-.94-2.06-.94L8.5 2.5l-.94 2.06-2.06.94zm10 10l.94 2.06.94-2.06 2.06-.94-2.06-.94-.94-2.06-.94 2.06-2.06.94z\"/><path d=\"M17.41 7.96l-1.37-1.37c-.4-.4-.92-.59-1.43-.59-.52 0-1.04.2-1.43.59L10.3 9.45l-7.72 7.72c-.78.78-.78 2.05 0 2.83L4 21.41c.39.39.9.59 1.41.59.51 0 1.02-.2 1.41-.59l7.78-7.78 2.81-2.81c.8-.78.8-2.07 0-2.86zM5.41 20L4 18.59l7.72-7.72 1.47 1.35L5.41 20z\"/>\n",
              "  </svg>\n",
              "      </button>\n",
              "      \n",
              "  <style>\n",
              "    .colab-df-container {\n",
              "      display:flex;\n",
              "      flex-wrap:wrap;\n",
              "      gap: 12px;\n",
              "    }\n",
              "\n",
              "    .colab-df-convert {\n",
              "      background-color: #E8F0FE;\n",
              "      border: none;\n",
              "      border-radius: 50%;\n",
              "      cursor: pointer;\n",
              "      display: none;\n",
              "      fill: #1967D2;\n",
              "      height: 32px;\n",
              "      padding: 0 0 0 0;\n",
              "      width: 32px;\n",
              "    }\n",
              "\n",
              "    .colab-df-convert:hover {\n",
              "      background-color: #E2EBFA;\n",
              "      box-shadow: 0px 1px 2px rgba(60, 64, 67, 0.3), 0px 1px 3px 1px rgba(60, 64, 67, 0.15);\n",
              "      fill: #174EA6;\n",
              "    }\n",
              "\n",
              "    [theme=dark] .colab-df-convert {\n",
              "      background-color: #3B4455;\n",
              "      fill: #D2E3FC;\n",
              "    }\n",
              "\n",
              "    [theme=dark] .colab-df-convert:hover {\n",
              "      background-color: #434B5C;\n",
              "      box-shadow: 0px 1px 3px 1px rgba(0, 0, 0, 0.15);\n",
              "      filter: drop-shadow(0px 1px 2px rgba(0, 0, 0, 0.3));\n",
              "      fill: #FFFFFF;\n",
              "    }\n",
              "  </style>\n",
              "\n",
              "      <script>\n",
              "        const buttonEl =\n",
              "          document.querySelector('#df-473cd46f-225d-4d1c-bc4d-350dd74ef545 button.colab-df-convert');\n",
              "        buttonEl.style.display =\n",
              "          google.colab.kernel.accessAllowed ? 'block' : 'none';\n",
              "\n",
              "        async function convertToInteractive(key) {\n",
              "          const element = document.querySelector('#df-473cd46f-225d-4d1c-bc4d-350dd74ef545');\n",
              "          const dataTable =\n",
              "            await google.colab.kernel.invokeFunction('convertToInteractive',\n",
              "                                                     [key], {});\n",
              "          if (!dataTable) return;\n",
              "\n",
              "          const docLinkHtml = 'Like what you see? Visit the ' +\n",
              "            '<a target=\"_blank\" href=https://colab.research.google.com/notebooks/data_table.ipynb>data table notebook</a>'\n",
              "            + ' to learn more about interactive tables.';\n",
              "          element.innerHTML = '';\n",
              "          dataTable['output_type'] = 'display_data';\n",
              "          await google.colab.output.renderOutput(dataTable, element);\n",
              "          const docLink = document.createElement('div');\n",
              "          docLink.innerHTML = docLinkHtml;\n",
              "          element.appendChild(docLink);\n",
              "        }\n",
              "      </script>\n",
              "    </div>\n",
              "  </div>\n",
              "  "
            ]
          },
          "metadata": {},
          "execution_count": 15
        }
      ]
    },
    {
      "cell_type": "code",
      "source": [],
      "metadata": {
        "colab": {
          "base_uri": "https://localhost:8080/"
        },
        "id": "Z4Y_zS1DIbQu",
        "outputId": "c577247e-1ca4-4b00-c034-cd6c7d0d5069"
      },
      "execution_count": 61,
      "outputs": [
        {
          "output_type": "stream",
          "name": "stdout",
          "text": [
            "Hola\n"
          ]
        }
      ]
    }
  ]
}